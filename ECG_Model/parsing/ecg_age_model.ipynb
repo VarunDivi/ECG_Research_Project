{
 "cells": [
  {
   "attachments": {},
   "cell_type": "markdown",
   "metadata": {},
   "source": [
    "# CNN Model for Predicting Age from 12-lead ECG signals"
   ]
  },
  {
   "cell_type": "code",
   "execution_count": 31,
   "metadata": {},
   "outputs": [
    {
     "data": {
      "text/plain": [
       "[]"
      ]
     },
     "execution_count": 31,
     "metadata": {},
     "output_type": "execute_result"
    }
   ],
   "source": [
    "import tensorflow as tf # Models ran in venv python 3.9.16 with GPU computing support\n",
    "import pandas as pd\n",
    "import numpy as np\n",
    "import matplotlib.pyplot as plt\n",
    "import wfdb\n",
    "import ast\n",
    "import ecg_plot\n",
    "tf.config.list_physical_devices('GPU') # Verify you have a GPU available. Not required"
   ]
  },
  {
   "cell_type": "code",
   "execution_count": 32,
   "metadata": {},
   "outputs": [],
   "source": [
    "\n",
    "### Loading raw data into mutable Datframes\n",
    "ptb = pd.read_csv('../data/ptbxl_database.csv')\n",
    "def load_raw_data(df, sampling_rate, path):\n",
    "    if(sampling_rate == 100):\n",
    "        data = [wfdb.rdsamp(path+f) for f in df.filename_lr]\n",
    "    else:\n",
    "        data = [wfdb.rdsamp(path+f) for f in df.filename_hr]\n",
    "    data = np.array([signal for signal, meta in data])\n",
    "    return data\n",
    "\n"
   ]
  },
  {
   "cell_type": "code",
   "execution_count": 33,
   "metadata": {},
   "outputs": [],
   "source": [
    "\n",
    "sampling_rate=100\n",
    "# load and convert annotation data\n",
    "Y = pd.read_csv('../data/ptbxl_database.csv', index_col='ecg_id')\n",
    "Y.scp_codes = Y.scp_codes.apply(lambda x: ast.literal_eval(x))\n"
   ]
  },
  {
   "cell_type": "code",
   "execution_count": 34,
   "metadata": {},
   "outputs": [],
   "source": [
    "\n",
    "# Load raw signal data\n",
    "X = load_raw_data(Y, 100, '../data/')\n"
   ]
  },
  {
   "cell_type": "code",
   "execution_count": 35,
   "metadata": {},
   "outputs": [],
   "source": [
    "\n",
    "# Load scp_statements.csv for diagnostic aggregation\n",
    "agg_df = pd.read_csv('../data/scp_statements.csv', index_col=0)\n",
    "agg_df = agg_df[agg_df.diagnostic == 1]\n",
    "\n",
    "def aggregate_diagnostic(y_dic):\n",
    "    tmp = []\n",
    "    for key in y_dic.keys():\n",
    "        if key in agg_df.index:\n",
    "            tmp.append(agg_df.loc[key].diagnostic_class)\n",
    "    return list(set(tmp))\n",
    "\n",
    "\n",
    "# Apply diagnostic superclass\n",
    "Y['diagnostic_superclass'] = Y.scp_codes.apply(aggregate_diagnostic)"
   ]
  },
  {
   "attachments": {},
   "cell_type": "markdown",
   "metadata": {},
   "source": [
    "## Data Augmentation"
   ]
  },
  {
   "attachments": {},
   "cell_type": "markdown",
   "metadata": {},
   "source": [
    "### Quality Filter"
   ]
  },
  {
   "cell_type": "code",
   "execution_count": 36,
   "metadata": {},
   "outputs": [],
   "source": [
    "X = X[(Y.validated_by_human == True)]\n",
    "Y = Y[(Y.validated_by_human == True)]"
   ]
  },
  {
   "attachments": {},
   "cell_type": "markdown",
   "metadata": {},
   "source": [
    "### Band Pass Filter"
   ]
  },
  {
   "cell_type": "code",
   "execution_count": null,
   "metadata": {},
   "outputs": [],
   "source": []
  },
  {
   "attachments": {},
   "cell_type": "markdown",
   "metadata": {},
   "source": [
    "### Normalization"
   ]
  },
  {
   "cell_type": "code",
   "execution_count": 37,
   "metadata": {},
   "outputs": [],
   "source": [
    "def normalize(X, shape = False):\n",
    "    # Compute mean and standard deviation along axis 1 and 2\n",
    "    X_mean = np.mean(X)\n",
    "    X_std = np.std(X)\n",
    "\n",
    "    if(shape):\n",
    "        print(X.shape)\n",
    "    # Normalize data by subtracting mean and dividing by standard deviation\n",
    "    return ((X - X_mean) / X_std)"
   ]
  },
  {
   "attachments": {},
   "cell_type": "markdown",
   "metadata": {},
   "source": [
    "### Baseline Drift Augmentation"
   ]
  },
  {
   "cell_type": "code",
   "execution_count": 38,
   "metadata": {},
   "outputs": [],
   "source": [
    "import random\n",
    "# Defining constant BL drift\n",
    "bld = 0.5\n",
    "def baseline_drift(X, baseline, range = 0):\n",
    "    bld_range = (baseline-range, baseline+range)\n",
    "    random_shifts = np.random.uniform(bld_range[0], bld_range[1], size = X.shape)\n",
    "    return X + random_shifts"
   ]
  },
  {
   "attachments": {},
   "cell_type": "markdown",
   "metadata": {},
   "source": [
    "### DA Applyer"
   ]
  },
  {
   "cell_type": "code",
   "execution_count": 39,
   "metadata": {},
   "outputs": [],
   "source": [
    "def da_apply(X, functions, shape = False):\n",
    "    X_final = X.copy()\n",
    "\n",
    "    # Applys DA Augments in specified order\n",
    "    for func_dict in functions:\n",
    "        func = func_dict['func']\n",
    "        if(func_dict['params'] == None):\n",
    "            X_final = func(X_final)     \n",
    "        else:\n",
    "            params = func_dict['params']\n",
    "            X_final = func(X_final, *params)  \n",
    "\n",
    "    if(shape == True):\n",
    "        print(X_final.shape)\n",
    "\n",
    "    return X_final\n",
    "\n",
    "#func_dict = [{'func': normalize, 'params': [None]}]\n",
    "\n",
    "#func_dict = [{'func': baseline_drift, 'params': [0,0.05]}]\n",
    "\n",
    "\n",
    "func_dict = [{'func': normalize, 'params': [None]}, \n",
    "             {'func': baseline_drift, 'params': [0,0.075]}] # 0.075 works nicely\n",
    "\n",
    "X_final = da_apply(X, func_dict)"
   ]
  },
  {
   "attachments": {},
   "cell_type": "markdown",
   "metadata": {},
   "source": [
    "### Splitting data in train, validation, testing data set"
   ]
  },
  {
   "cell_type": "code",
   "execution_count": 40,
   "metadata": {},
   "outputs": [
    {
     "name": "stdout",
     "output_type": "stream",
     "text": [
      "((11675, 1000, 12), (11675,), (2183, 1000, 12), (2183,), (2198, 1000, 12), (2198,))\n"
     ]
    }
   ],
   "source": [
    "\n",
    "# Split data into train and test\n",
    "test_fold =10\n",
    "val_fold = 9\n",
    "\n",
    "def tvt_split(X, Y, val_fold, test_fold, shape = False):\n",
    "    X_train = X[(Y.strat_fold != test_fold) & (Y.strat_fold != val_fold)]\n",
    "    y_train = Y[(Y.strat_fold != test_fold) & (Y.strat_fold != val_fold)].age\n",
    "\n",
    "    X_val = X[Y.strat_fold == val_fold]\n",
    "    y_val = Y[Y.strat_fold == val_fold].age\n",
    "\n",
    "    X_test = X[(Y.strat_fold == test_fold)]\n",
    "    y_test = Y[Y.strat_fold == test_fold].age\n",
    "\n",
    "    y_train = pd.get_dummies(y_train)\n",
    "    y_val = pd.get_dummies(y_val)\n",
    "    y_test = pd.get_dummies(y_test)\n",
    "\n",
    "    y_train = y_train.idxmax(axis = 1).to_numpy()\n",
    "    y_val = y_val.idxmax(axis = 1).to_numpy()\n",
    "    y_test = y_test.idxmax(axis = 1).to_numpy()\n",
    "\n",
    "    if(shape == True):\n",
    "        print((X_train.shape, y_train.shape, X_val.shape, y_val.shape, X_test.shape, y_test.shape))\n",
    "\n",
    "    return X_train, y_train, X_val, y_val, X_test, y_test\n",
    "\n",
    "X_train, y_train, X_val, y_val, X_test, y_test = tvt_split(X_final, Y, val_fold, test_fold, True)"
   ]
  },
  {
   "attachments": {},
   "cell_type": "markdown",
   "metadata": {},
   "source": [
    "### Analysis of Age Data"
   ]
  },
  {
   "cell_type": "code",
   "execution_count": 41,
   "metadata": {},
   "outputs": [
    {
     "data": {
      "text/plain": [
       "(array([  3.,  78., 102., 189., 277., 455., 505., 352., 203.,   0.,   0.,\n",
       "          0.,   0.,   0.,   0.,   0.,   0.,   0.,   0.,   0.,   0.,   0.,\n",
       "          0.,   0.,   0.,   0.,   0.,   0.,   0.,  34.]),\n",
       " array([  4.        ,  13.86666667,  23.73333333,  33.6       ,\n",
       "         43.46666667,  53.33333333,  63.2       ,  73.06666667,\n",
       "         82.93333333,  92.8       , 102.66666667, 112.53333333,\n",
       "        122.4       , 132.26666667, 142.13333333, 152.        ,\n",
       "        161.86666667, 171.73333333, 181.6       , 191.46666667,\n",
       "        201.33333333, 211.2       , 221.06666667, 230.93333333,\n",
       "        240.8       , 250.66666667, 260.53333333, 270.4       ,\n",
       "        280.26666667, 290.13333333, 300.        ]),\n",
       " <BarContainer object of 30 artists>)"
      ]
     },
     "execution_count": 41,
     "metadata": {},
     "output_type": "execute_result"
    },
    {
     "data": {
      "image/png": "[encoded data removed]",
      "text/plain": [
       "<Figure size 432x288 with 1 Axes>"
      ]
     },
     "metadata": {
      "needs_background": "light"
     },
     "output_type": "display_data"
    }
   ],
   "source": [
    "plt.hist(y_test, bins = 30)"
   ]
  },
  {
   "attachments": {},
   "cell_type": "markdown",
   "metadata": {},
   "source": [
    "### Data manipulation\n",
    "* The date of birth only as age at the time of the ECG recording, where ages of more than 89 years appear in the range of 300 years in compliance with HIPAA standards as stated by the PTB-XL data page."
   ]
  },
  {
   "attachments": {},
   "cell_type": "markdown",
   "metadata": {},
   "source": [
    "### Defining a new Reduced training and test dataset without pateints ages 89 years or older"
   ]
  },
  {
   "cell_type": "code",
   "execution_count": 42,
   "metadata": {},
   "outputs": [
    {
     "data": {
      "text/plain": [
       "((11398, 1000, 12),\n",
       " (2128, 1000, 12),\n",
       " (2147, 1000, 12),\n",
       " (11398,),\n",
       " (2128,),\n",
       " (2147,))"
      ]
     },
     "execution_count": 42,
     "metadata": {},
     "output_type": "execute_result"
    }
   ],
   "source": [
    "#Defining a new training and test set that removes pateints 89 years or older.\n",
    "rX_train = X_train[np.where(y_train <89) & np.where(y_train >= 18)]\n",
    "ry_train = y_train[np.where(y_train <89) & np.where(y_train >= 18)]\n",
    "\n",
    "rX_val = X_val[np.where(y_val <89) & np.where(y_val >= 18)]\n",
    "ry_val = y_val[np.where(y_val <89) & np.where(y_val >= 18)]\n",
    "\n",
    "rX_test = X_test[np.where(y_test <89) & np.where(y_test >= 18)]\n",
    "ry_test = y_test[np.where(y_test <89) & np.where(y_test >= 18)]\n",
    "\n",
    "\n",
    "\n",
    "rX_train.shape, rX_val.shape, rX_test.shape, ry_train.shape, ry_val.shape, ry_test.shape"
   ]
  },
  {
   "cell_type": "code",
   "execution_count": null,
   "metadata": {},
   "outputs": [],
   "source": []
  },
  {
   "cell_type": "code",
   "execution_count": 43,
   "metadata": {},
   "outputs": [
    {
     "data": {
      "image/png": "[encoded data removed]",
      "text/plain": [
       "<Figure size 432x288 with 1 Axes>"
      ]
     },
     "metadata": {
      "needs_background": "light"
     },
     "output_type": "display_data"
    }
   ],
   "source": [
    "# Plotting the histograms\n",
    "hist_val = plt.hist(ry_val, label='Validation Set', color=\"black\")\n",
    "hist_test = plt.hist(ry_test, label='Test Set', alpha = 0.7)\n",
    "\n",
    "plt.legend()\n",
    "plt.title(\"Distribution of Test and Validation\")\n",
    "\n",
    "plt.show()"
   ]
  },
  {
   "attachments": {},
   "cell_type": "markdown",
   "metadata": {},
   "source": [
    "## Modelling"
   ]
  },
  {
   "cell_type": "code",
   "execution_count": 86,
   "metadata": {},
   "outputs": [
    {
     "name": "stdout",
     "output_type": "stream",
     "text": [
      "Epoch 1/15\n",
      "357/357 [==============================] - 13s 30ms/step - loss: 435.5605 - mae: 14.8817 - val_loss: 373.9300 - val_mae: 14.7128\n",
      "Epoch 2/15\n",
      "357/357 [==============================] - 10s 28ms/step - loss: 268.1366 - mae: 11.8919 - val_loss: 256.0378 - val_mae: 11.4377\n",
      "Epoch 3/15\n",
      "357/357 [==============================] - 11s 29ms/step - loss: 240.2084 - mae: 11.2493 - val_loss: 248.6028 - val_mae: 11.6345\n",
      "Epoch 4/15\n",
      "357/357 [==============================] - 11s 31ms/step - loss: 216.5629 - mae: 10.7127 - val_loss: 236.6044 - val_mae: 11.3142\n",
      "Epoch 5/15\n",
      "357/357 [==============================] - 11s 30ms/step - loss: 204.7832 - mae: 10.4349 - val_loss: 207.2015 - val_mae: 10.6590\n",
      "Epoch 6/15\n",
      "357/357 [==============================] - 11s 30ms/step - loss: 191.7993 - mae: 10.1239 - val_loss: 187.9548 - val_mae: 9.9107\n",
      "Epoch 7/15\n",
      "357/357 [==============================] - 11s 29ms/step - loss: 181.4062 - mae: 9.8941 - val_loss: 198.4641 - val_mae: 10.3069\n",
      "Epoch 8/15\n",
      "357/357 [==============================] - 11s 30ms/step - loss: 174.3421 - mae: 9.6576 - val_loss: 180.9343 - val_mae: 9.8442\n",
      "Epoch 9/15\n",
      "357/357 [==============================] - 11s 30ms/step - loss: 165.9211 - mae: 9.3927 - val_loss: 174.1848 - val_mae: 9.6572\n",
      "Epoch 10/15\n",
      "357/357 [==============================] - 11s 29ms/step - loss: 156.6784 - mae: 9.1130 - val_loss: 174.7033 - val_mae: 9.6033\n",
      "Epoch 11/15\n",
      "357/357 [==============================] - 11s 31ms/step - loss: 158.3259 - mae: 9.2383 - val_loss: 171.7834 - val_mae: 9.5618\n",
      "Epoch 12/15\n",
      "357/357 [==============================] - 11s 31ms/step - loss: 153.8787 - mae: 9.0942 - val_loss: 179.1555 - val_mae: 9.8162\n",
      "Epoch 13/15\n",
      "357/357 [==============================] - 11s 31ms/step - loss: 146.1948 - mae: 8.7985 - val_loss: 179.6407 - val_mae: 9.8074\n",
      "Epoch 14/15\n",
      "357/357 [==============================] - 11s 32ms/step - loss: 144.2882 - mae: 8.7672 - val_loss: 176.9821 - val_mae: 9.8308\n",
      "Epoch 15/15\n",
      "357/357 [==============================] - 11s 30ms/step - loss: 137.2213 - mae: 8.5293 - val_loss: 170.5386 - val_mae: 9.6405\n"
     ]
    }
   ],
   "source": [
    "tf.debugging.disable_traceback_filtering\n",
    "\n",
    "# Creating the model\n",
    "ecg_age_model_1 = tf.keras.Sequential([\n",
    "    tf.keras.layers.Conv1D(filters = 32, kernel_size = 8, strides = 4, padding = \"valid\", activation='relu'),\n",
    "    tf.keras.layers.BatchNormalization(),\n",
    "    tf.keras.layers.MaxPool1D(pool_size=4, strides = 1, padding = \"valid\"),\n",
    "\n",
    "    tf.keras.layers.Conv1D(filters = 64, kernel_size = 7, strides = 3, padding = \"valid\", activation = 'relu'),\n",
    "    tf.keras.layers.BatchNormalization(),\n",
    "    tf.keras.layers.MaxPool1D(pool_size=2, strides = 1, padding = \"valid\"),\n",
    "    tf.keras.layers.Dropout(0.2, seed = 13),\n",
    "\n",
    "    tf.keras.layers.Conv1D(filters = 96, kernel_size = 5, strides = 2, padding = \"valid\", activation = 'relu'),\n",
    "    tf.keras.layers.BatchNormalization(),\n",
    "    tf.keras.layers.MaxPool1D(pool_size=2, strides = 1, padding = \"valid\"),\n",
    "\n",
    "    tf.keras.layers.Conv1D(filters = 128, kernel_size = 4, strides = 1, padding = \"valid\", activation = 'relu'),\n",
    "    tf.keras.layers.BatchNormalization(),\n",
    "    tf.keras.layers.MaxPool1D(pool_size=2, strides = 1, padding = \"valid\"),\n",
    "\n",
    "    tf.keras.layers.Conv1D(filters = 160, kernel_size = 3, strides = 1, padding = \"valid\", activation = 'relu'),\n",
    "    tf.keras.layers.BatchNormalization(),\n",
    "    tf.keras.layers.MaxPool1D(pool_size=2, strides = 1, padding = \"valid\"),\n",
    "    tf.keras.layers.Flatten(),\n",
    "\n",
    "\n",
    "    tf.keras.layers.Dense(64, activation= 'relu', kernel_regularizer='l1'),\n",
    "    tf.keras.layers.Dropout(0.2, seed = 13),\n",
    "\n",
    "    tf.keras.layers.Dense(1, activation= 'linear')\n",
    "])\n",
    "\n",
    "\n",
    "# Compiling the model\n",
    "ecg_age_model_1.compile(loss = tf.keras.losses.mse,\n",
    "                      optimizer = tf.keras.optimizers.Adam(learning_rate= 0.0003),\n",
    "                      metrics = ['mae'])\n",
    "\n",
    "\n",
    "# Call Backs\n",
    "early_stopper = tf.keras.callbacks.EarlyStopping(monitor = 'val_accuracy', min_delta= 0.01,patience = 4, baseline= 0.75)\n",
    "#lr_scheduler = tf.keras.callbacks.LearningRateScheduler(lambda epoch: (0.0008) * 10**(epoch/20))\n",
    "checkpoint_callback = tf.keras.callbacks.ModelCheckpoint(filepath='model_checkpoint.h5', save_best_only=True)\n",
    "\n",
    "\n",
    "# Fitting the model\n",
    "history = ecg_age_model_1.fit(rX_train, ry_train, epochs = 15, validation_data = (rX_test, ry_test), callbacks = checkpoint_callback)"
   ]
  },
  {
   "cell_type": "code",
   "execution_count": 87,
   "metadata": {},
   "outputs": [
    {
     "name": "stdout",
     "output_type": "stream",
     "text": [
      "67/67 [==============================] - 0s 6ms/step - loss: 169.9269 - mae: 9.5028\n"
     ]
    },
    {
     "data": {
      "text/plain": [
       "[169.9268798828125, 9.502808570861816]"
      ]
     },
     "execution_count": 87,
     "metadata": {},
     "output_type": "execute_result"
    }
   ],
   "source": [
    "ecg_age_model_1.evaluate(rX_val, ry_val)"
   ]
  },
  {
   "attachments": {},
   "cell_type": "markdown",
   "metadata": {},
   "source": [
    "## Performance Analysis"
   ]
  },
  {
   "cell_type": "code",
   "execution_count": 157,
   "metadata": {},
   "outputs": [
    {
     "name": "stdout",
     "output_type": "stream",
     "text": [
      "67/67 [==============================] - 0s 6ms/step\n"
     ]
    },
    {
     "data": {
      "text/html": [
       "<div>\n",
       "<style scoped>\n",
       "    .dataframe tbody tr th:only-of-type {\n",
       "        vertical-align: middle;\n",
       "    }\n",
       "\n",
       "    .dataframe tbody tr th {\n",
       "        vertical-align: top;\n",
       "    }\n",
       "\n",
       "    .dataframe thead th {\n",
       "        text-align: right;\n",
       "    }\n",
       "</style>\n",
       "<table border=\"1\" class=\"dataframe\">\n",
       "  <thead>\n",
       "    <tr style=\"text-align: right;\">\n",
       "      <th></th>\n",
       "      <th>patient_id</th>\n",
       "      <th>age</th>\n",
       "      <th>sex</th>\n",
       "      <th>height</th>\n",
       "      <th>weight</th>\n",
       "      <th>nurse</th>\n",
       "      <th>site</th>\n",
       "      <th>device</th>\n",
       "      <th>recording_date</th>\n",
       "      <th>report</th>\n",
       "      <th>...</th>\n",
       "      <th>baseline_drift</th>\n",
       "      <th>static_noise</th>\n",
       "      <th>burst_noise</th>\n",
       "      <th>electrodes_problems</th>\n",
       "      <th>extra_beats</th>\n",
       "      <th>pacemaker</th>\n",
       "      <th>strat_fold</th>\n",
       "      <th>filename_lr</th>\n",
       "      <th>filename_hr</th>\n",
       "      <th>diagnostic_superclass</th>\n",
       "    </tr>\n",
       "    <tr>\n",
       "      <th>ecg_id</th>\n",
       "      <th></th>\n",
       "      <th></th>\n",
       "      <th></th>\n",
       "      <th></th>\n",
       "      <th></th>\n",
       "      <th></th>\n",
       "      <th></th>\n",
       "      <th></th>\n",
       "      <th></th>\n",
       "      <th></th>\n",
       "      <th></th>\n",
       "      <th></th>\n",
       "      <th></th>\n",
       "      <th></th>\n",
       "      <th></th>\n",
       "      <th></th>\n",
       "      <th></th>\n",
       "      <th></th>\n",
       "      <th></th>\n",
       "      <th></th>\n",
       "      <th></th>\n",
       "    </tr>\n",
       "  </thead>\n",
       "  <tbody>\n",
       "    <tr>\n",
       "      <th>1106</th>\n",
       "      <td>7255.0</td>\n",
       "      <td>3.0</td>\n",
       "      <td>1</td>\n",
       "      <td>NaN</td>\n",
       "      <td>NaN</td>\n",
       "      <td>NaN</td>\n",
       "      <td>11.0</td>\n",
       "      <td>AT-6     6</td>\n",
       "      <td>1987-08-14 18:28:27</td>\n",
       "      <td>sinus rhythm. normal ecg for age.</td>\n",
       "      <td>...</td>\n",
       "      <td>NaN</td>\n",
       "      <td>NaN</td>\n",
       "      <td>NaN</td>\n",
       "      <td>NaN</td>\n",
       "      <td>NaN</td>\n",
       "      <td>NaN</td>\n",
       "      <td>3</td>\n",
       "      <td>records100/01000/01106_lr</td>\n",
       "      <td>records500/01000/01106_hr</td>\n",
       "      <td>[NORM]</td>\n",
       "    </tr>\n",
       "    <tr>\n",
       "      <th>9736</th>\n",
       "      <td>1681.0</td>\n",
       "      <td>3.0</td>\n",
       "      <td>1</td>\n",
       "      <td>100.0</td>\n",
       "      <td>16.0</td>\n",
       "      <td>6.0</td>\n",
       "      <td>1.0</td>\n",
       "      <td>AT-6 C 5.8</td>\n",
       "      <td>1993-01-28 11:10:45</td>\n",
       "      <td>sinus rhythm. normal ecg for age.</td>\n",
       "      <td>...</td>\n",
       "      <td>NaN</td>\n",
       "      <td>NaN</td>\n",
       "      <td>NaN</td>\n",
       "      <td>NaN</td>\n",
       "      <td>NaN</td>\n",
       "      <td>NaN</td>\n",
       "      <td>9</td>\n",
       "      <td>records100/09000/09736_lr</td>\n",
       "      <td>records500/09000/09736_hr</td>\n",
       "      <td>[NORM]</td>\n",
       "    </tr>\n",
       "  </tbody>\n",
       "</table>\n",
       "<p>2 rows × 28 columns</p>\n",
       "</div>"
      ],
      "text/plain": [
       "        patient_id  age  sex  height  weight  nurse  site      device  \\\n",
       "ecg_id                                                                  \n",
       "1106        7255.0  3.0    1     NaN     NaN    NaN  11.0  AT-6     6   \n",
       "9736        1681.0  3.0    1   100.0    16.0    6.0   1.0  AT-6 C 5.8   \n",
       "\n",
       "             recording_date                             report  ...  \\\n",
       "ecg_id                                                          ...   \n",
       "1106    1987-08-14 18:28:27  sinus rhythm. normal ecg for age.  ...   \n",
       "9736    1993-01-28 11:10:45  sinus rhythm. normal ecg for age.  ...   \n",
       "\n",
       "       baseline_drift static_noise burst_noise electrodes_problems  \\\n",
       "ecg_id                                                               \n",
       "1106              NaN          NaN         NaN                 NaN   \n",
       "9736              NaN          NaN         NaN                 NaN   \n",
       "\n",
       "        extra_beats  pacemaker  strat_fold                filename_lr  \\\n",
       "ecg_id                                                                  \n",
       "1106            NaN        NaN           3  records100/01000/01106_lr   \n",
       "9736            NaN        NaN           9  records100/09000/09736_lr   \n",
       "\n",
       "                      filename_hr diagnostic_superclass  \n",
       "ecg_id                                                   \n",
       "1106    records500/01000/01106_hr                [NORM]  \n",
       "9736    records500/09000/09736_hr                [NORM]  \n",
       "\n",
       "[2 rows x 28 columns]"
      ]
     },
     "execution_count": 157,
     "metadata": {},
     "output_type": "execute_result"
    }
   ],
   "source": [
    "ry_pred = ecg_age_model_1.predict(rX_val)\n",
    "unique_ages = np.unique(ry_val)"
   ]
  },
  {
   "cell_type": "code",
   "execution_count": 172,
   "metadata": {},
   "outputs": [
    {
     "data": {
      "image/png": "[encoded data removed]",
      "text/plain": [
       "<Figure size 2160x1080 with 1 Axes>"
      ]
     },
     "metadata": {
      "needs_background": "light"
     },
     "output_type": "display_data"
    }
   ],
   "source": [
    "import seaborn as sns\n",
    "\n",
    "# Create a DataFrame from the data\n",
    "data = pd.DataFrame({'Category': np.squeeze(ry_val), 'Values': np.squeeze(ry_pred)})\n",
    "\n",
    "# Create a group boxplot using seaborn\n",
    "plt.figure(figsize=(30, 15))\n",
    "plt.grid(True, axis='y', linestyle='--', alpha=0.7)\n",
    "sns.boxplot(x='Category', y='Values', data=data, width=0.6)\n",
    "plt.xlabel('Category')\n",
    "plt.ylabel('Values')\n",
    "plt.yticks(range(0, 110, 5)) \n",
    "plt.title('Grouped Box Plot')\n",
    "plt.show()"
   ]
  },
  {
   "attachments": {},
   "cell_type": "markdown",
   "metadata": {},
   "source": [
    "### Further Data manipulation\n",
    "We however do not recommend the use of time inversion, spatial inversion, permutation, and lead shuffling, whereas a careful design of all other basic DA techniques is needed. "
   ]
  }
 ],
 "metadata": {
  "kernelspec": {
   "display_name": "Python 3",
   "language": "python",
   "name": "python3"
  },
  "language_info": {
   "codemirror_mode": {
    "name": "ipython",
    "version": 3
   },
   "file_extension": ".py",
   "mimetype": "text/x-python",
   "name": "python",
   "nbconvert_exporter": "python",
   "pygments_lexer": "ipython3",
   "version": "3.9.13"
  },
  "orig_nbformat": 4
 },
 "nbformat": 4,
 "nbformat_minor": 2
}
