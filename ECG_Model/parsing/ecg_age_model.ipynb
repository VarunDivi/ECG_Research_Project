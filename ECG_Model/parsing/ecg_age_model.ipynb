{
 "cells": [
  {
   "attachments": {},
   "cell_type": "markdown",
   "metadata": {},
   "source": [
    "# CNN Model for Predicting Age from 12-lead ECG signals"
   ]
  },
  {
   "cell_type": "code",
   "execution_count": 2,
   "metadata": {},
   "outputs": [
    {
     "data": {
      "text/plain": [
       "[PhysicalDevice(name='/physical_device:GPU:0', device_type='GPU')]"
      ]
     },
     "execution_count": 2,
     "metadata": {},
     "output_type": "execute_result"
    }
   ],
   "source": [
    "import tensorflow as tf # Models ran in venv python 3.9.16 with GPU computing support\n",
    "from tensorflow.keras.models import Sequential\n",
    "from tensorflow.keras.layers import Conv1D, MaxPooling1D, Flatten, Dense\n",
    "from tensorflow.keras.callbacks import EarlyStopping, ModelCheckpoint\n",
    "import pandas as pd\n",
    "import numpy as np\n",
    "import matplotlib.pyplot as plt\n",
    "import wfdb\n",
    "import ast\n",
    "import ecg_plot\n",
    "tf.config.list_physical_devices('GPU') # Verify you have a GPU available. Not required"
   ]
  },
  {
   "attachments": {},
   "cell_type": "markdown",
   "metadata": {},
   "source": [
    "### Loading raw Data into Mutable Dataframes"
   ]
  },
  {
   "cell_type": "code",
   "execution_count": 3,
   "metadata": {},
   "outputs": [],
   "source": [
    "with tf.device('/CPU:0'):\n",
    "    ### Loading raw data into mutable Datframes\n",
    "    ptb = pd.read_csv('../data/ptbxl_database.csv')\n",
    "    def load_raw_data(df, sampling_rate, path):\n",
    "        if(sampling_rate == 100):\n",
    "            data = [wfdb.rdsamp(path+f) for f in df.filename_lr]\n",
    "        else:\n",
    "            data = [wfdb.rdsamp(path+f) for f in df.filename_hr]\n",
    "        data = np.array([signal for signal, meta in data])\n",
    "        return data\n",
    "    \n",
    "    sampling_rate=100\n",
    "    # load and convert annotation data\n",
    "    Y = pd.read_csv('../data/ptbxl_database.csv', index_col='ecg_id')\n",
    "    Y.scp_codes = Y.scp_codes.apply(lambda x: ast.literal_eval(x))\n",
    "\n",
    "    # Load raw signal data\n",
    "    X = load_raw_data(Y, 100, '../data/')\n",
    "\n",
    "    # Load scp_statements.csv for diagnostic aggregation\n",
    "    agg_df = pd.read_csv('../data/scp_statements.csv', index_col=0)\n",
    "    agg_df = agg_df[agg_df.diagnostic == 1]\n",
    "\n",
    "    def aggregate_diagnostic(y_dic):\n",
    "        tmp = []\n",
    "        for key in y_dic.keys():\n",
    "            if key in agg_df.index:\n",
    "                tmp.append(agg_df.loc[key].diagnostic_class)\n",
    "        return list(set(tmp))\n",
    "\n",
    "\n",
    "    # Apply diagnostic superclass\n",
    "    Y['diagnostic_superclass'] = Y.scp_codes.apply(aggregate_diagnostic)\n",
    "\n"
   ]
  },
  {
   "attachments": {},
   "cell_type": "markdown",
   "metadata": {},
   "source": [
    "## Data Augmentation"
   ]
  },
  {
   "attachments": {},
   "cell_type": "markdown",
   "metadata": {},
   "source": [
    "### Quality Filter"
   ]
  },
  {
   "cell_type": "code",
   "execution_count": 4,
   "metadata": {},
   "outputs": [],
   "source": [
    "# X = X[(Y.validated_by_human == True)]\n",
    "# Y = Y[(Y.validated_by_human == True)]"
   ]
  },
  {
   "attachments": {},
   "cell_type": "markdown",
   "metadata": {},
   "source": [
    "### Band Pass Filter"
   ]
  },
  {
   "cell_type": "code",
   "execution_count": null,
   "metadata": {},
   "outputs": [],
   "source": []
  },
  {
   "attachments": {},
   "cell_type": "markdown",
   "metadata": {},
   "source": [
    "### Baseline Drift and Normalization"
   ]
  },
  {
   "cell_type": "code",
   "execution_count": 5,
   "metadata": {},
   "outputs": [],
   "source": [
    "with tf.device('/CPU:0'):\n",
    "    def normalize(X, shape = False):\n",
    "        # Compute mean and standard deviation along axis 1 and 2\n",
    "        X_mean = np.mean(X)\n",
    "        X_std = np.std(X)\n",
    "\n",
    "        if(shape):\n",
    "            print(X.shape)\n",
    "        # Normalize data by subtracting mean and dividing by standard deviation\n",
    "        return ((X - X_mean) / X_std)\n",
    "\n",
    "\n",
    "    bld = 0.5\n",
    "    def baseline_drift(X, baseline, range = 0):\n",
    "        bld_range = (baseline-range, baseline+range)\n",
    "        random_shifts = np.random.uniform(bld_range[0], bld_range[1], size = X.shape)\n",
    "        return X + random_shifts"
   ]
  },
  {
   "attachments": {},
   "cell_type": "markdown",
   "metadata": {},
   "source": [
    "### DA Applyer"
   ]
  },
  {
   "cell_type": "code",
   "execution_count": 6,
   "metadata": {},
   "outputs": [],
   "source": [
    "with tf.device('/CPU:0'):\n",
    "    def da_apply(X, functions, shape = False):\n",
    "        X_final = X.copy()\n",
    "\n",
    "        # Applys DA Augments in specified order\n",
    "        for func_dict in functions:\n",
    "            func = func_dict['func']\n",
    "            if(func_dict['params'] == None):\n",
    "                X_final = func(X_final)     \n",
    "            else:\n",
    "                params = func_dict['params']\n",
    "                X_final = func(X_final, *params)  \n",
    "\n",
    "        if(shape == True):\n",
    "            print(X_final.shape)\n",
    "\n",
    "        return X_final\n",
    "\n",
    "    #func_dict = [{'func': normalize, 'params': [None]}]\n",
    "\n",
    "    #func_dict = [{'func': baseline_drift, 'params': [0,0.05]}]\n",
    "\n",
    "\n",
    "    func_dict = [{'func': normalize, 'params': [None]}, \n",
    "                {'func': baseline_drift, 'params': [0,0.1]}] # 0.075 works nicely\n",
    "\n",
    "    X_final = da_apply(X, func_dict)"
   ]
  },
  {
   "attachments": {},
   "cell_type": "markdown",
   "metadata": {},
   "source": [
    "### Splitting data in train, validation, testing data set"
   ]
  },
  {
   "cell_type": "code",
   "execution_count": 7,
   "metadata": {},
   "outputs": [
    {
     "name": "stdout",
     "output_type": "stream",
     "text": [
      "((17418, 1000, 12), (17418,), (2183, 1000, 12), (2183,), (2198, 1000, 12), (2198,))\n"
     ]
    }
   ],
   "source": [
    "\n",
    "with tf.device('/CPU:0'):\n",
    "    # Split data into train and test\n",
    "    test_fold =10\n",
    "    val_fold = 9\n",
    "\n",
    "    def tvt_split(X, Y, val_fold, test_fold, shape = False):\n",
    "        X_train = X[(Y.strat_fold != test_fold) & (Y.strat_fold != val_fold)]\n",
    "        y_train = Y[(Y.strat_fold != test_fold) & (Y.strat_fold != val_fold)].age\n",
    "\n",
    "        X_val = X[Y.strat_fold == val_fold]\n",
    "        y_val = Y[Y.strat_fold == val_fold].age\n",
    "\n",
    "        X_test = X[(Y.strat_fold == test_fold)]\n",
    "        y_test = Y[Y.strat_fold == test_fold].age\n",
    "\n",
    "        y_train = pd.get_dummies(y_train)\n",
    "        y_val = pd.get_dummies(y_val)\n",
    "        y_test = pd.get_dummies(y_test)\n",
    "\n",
    "        y_train = y_train.idxmax(axis = 1).to_numpy()\n",
    "        y_val = y_val.idxmax(axis = 1).to_numpy()\n",
    "        y_test = y_test.idxmax(axis = 1).to_numpy()\n",
    "\n",
    "        rX_train = X_train[(y_train < 89) & (y_train >= 18)]\n",
    "        ry_train = y_train[(y_train < 89) & (y_train >= 18)]\n",
    "\n",
    "        rX_val = X_val[(y_val < 89) & (y_val >= 18)]\n",
    "        ry_val = y_val[(y_val < 89) & (y_val >= 18)]\n",
    "\n",
    "        rX_test = X_test[(y_test < 89) & (y_test >= 18)]\n",
    "        ry_test = y_test[(y_test < 89) & (y_test >= 18)]\n",
    "\n",
    "        if(shape == True):\n",
    "            print((X_train.shape, y_train.shape, X_val.shape, y_val.shape, X_test.shape, y_test.shape))\n",
    "\n",
    "        return rX_train, ry_train, rX_val, ry_val, rX_test, ry_test\n",
    "\n",
    "    X_train, y_train, X_val, y_val, X_test, y_test = tvt_split(X_final, Y, val_fold, test_fold, True)"
   ]
  },
  {
   "attachments": {},
   "cell_type": "markdown",
   "metadata": {},
   "source": [
    "### Data manipulation\n",
    "* The date of birth only as age at the time of the ECG recording, where ages of more than 89 years appear in the range of 300 years in compliance with HIPAA standards as stated by the PTB-XL data page."
   ]
  },
  {
   "cell_type": "code",
   "execution_count": 8,
   "metadata": {},
   "outputs": [
    {
     "data": {
      "image/png": "[encoded data removed]",
      "text/plain": [
       "<Figure size 640x480 with 1 Axes>"
      ]
     },
     "metadata": {},
     "output_type": "display_data"
    }
   ],
   "source": [
    "with tf.device('/CPU:0'):\n",
    "    # Plotting the histograms\n",
    "    hist_val = plt.hist(y_val, label='Validation Set', color=\"black\")\n",
    "    hist_test = plt.hist(y_test, label='Test Set', alpha = 0.7)\n",
    "\n",
    "    plt.legend()\n",
    "    plt.title(\"Distribution of Test and Validation\")\n",
    "\n",
    "    plt.show()"
   ]
  },
  {
   "attachments": {},
   "cell_type": "markdown",
   "metadata": {},
   "source": [
    "## Modelling"
   ]
  },
  {
   "attachments": {},
   "cell_type": "markdown",
   "metadata": {},
   "source": [
    "### Batching"
   ]
  },
  {
   "cell_type": "code",
   "execution_count": 9,
   "metadata": {},
   "outputs": [
    {
     "name": "stdout",
     "output_type": "stream",
     "text": [
      "Epoch 1/10\n"
     ]
    }
   ],
   "source": [
    "with tf.device('/GPU:0'):\n",
    "\n",
    "    tf.debugging.disable_traceback_filtering\n",
    "\n",
    "    # Batching\n",
    "    batch_size = 64\n",
    "    num_epochs = 10\n",
    "    dataset = tf.data.Dataset.from_tensor_slices((X_train, y_train))\n",
    "\n",
    "    # Shuffle and batch the dataset\n",
    "    dataset = dataset.shuffle(buffer_size=20000)\n",
    "    dataset = dataset.batch(batch_size)\n",
    "\n",
    "\n",
    "    # Creating the model\n",
    "    ecg_age_model_1 = tf.keras.Sequential([\n",
    "        tf.keras.layers.Conv1D(filters = 32, kernel_size = 8, strides = 4, padding = \"valid\", activation='relu'),\n",
    "        tf.keras.layers.BatchNormalization(),\n",
    "        tf.keras.layers.MaxPool1D(pool_size=4, strides = 1, padding = \"valid\"),\n",
    "\n",
    "        tf.keras.layers.Conv1D(filters = 64, kernel_size = 7, strides = 3, padding = \"valid\", activation = 'relu'),\n",
    "        tf.keras.layers.BatchNormalization(),\n",
    "        tf.keras.layers.MaxPool1D(pool_size=2, strides = 1, padding = \"valid\"),\n",
    "        tf.keras.layers.Dropout(0.2, seed = 13),\n",
    "\n",
    "        tf.keras.layers.Conv1D(filters = 96, kernel_size = 5, strides = 2, padding = \"valid\", activation = 'relu'),\n",
    "        tf.keras.layers.BatchNormalization(),\n",
    "        tf.keras.layers.MaxPool1D(pool_size=2, strides = 1, padding = \"valid\"),\n",
    "\n",
    "        tf.keras.layers.Conv1D(filters = 128, kernel_size = 4, strides = 1, padding = \"valid\", activation = 'relu'),\n",
    "        tf.keras.layers.BatchNormalization(),\n",
    "        tf.keras.layers.MaxPool1D(pool_size=2, strides = 1, padding = \"valid\"),\n",
    "\n",
    "        tf.keras.layers.Conv1D(filters = 160, kernel_size = 3, strides = 1, padding = \"valid\", activation = 'relu'),\n",
    "        tf.keras.layers.BatchNormalization(),\n",
    "        tf.keras.layers.MaxPool1D(pool_size=2, strides = 1, padding = \"valid\"),\n",
    "        tf.keras.layers.Flatten(),\n",
    "\n",
    "\n",
    "        tf.keras.layers.Dense(64, activation= 'relu', kernel_regularizer='l1'),\n",
    "        tf.keras.layers.Dropout(0.2, seed = 13),\n",
    "\n",
    "        tf.keras.layers.Dense(1, activation= 'linear')\n",
    "    ])\n",
    "\n",
    "\n",
    "    # Compiling the model\n",
    "    ecg_age_model_1.compile(loss = tf.keras.losses.mse,\n",
    "                        optimizer = tf.keras.optimizers.Adam(learning_rate= 0.0003),\n",
    "                        metrics = ['mae'])\n",
    "\n",
    "\n",
    "    # Call Backs\n",
    "    early_stopper = tf.keras.callbacks.EarlyStopping(monitor = 'val_accuracy', min_delta= 0.01,patience = 4, baseline= 0.75)\n",
    "    #lr_scheduler = tf.keras.callbacks.LearningRateScheduler(lambda epoch: (0.0008) * 10**(epoch/20))\n",
    "    checkpoint_callback = tf.keras.callbacks.ModelCheckpoint(filepath='model_checkpoint.h5', save_best_only=True)\n",
    "\n",
    "\n",
    "    # Train the model\n",
    "\n",
    "    ecg_age_model_1.fit(dataset, epochs = num_epochs, validation_data = (X_val, y_val))"
   ]
  },
  {
   "cell_type": "code",
   "execution_count": null,
   "metadata": {},
   "outputs": [
    {
     "name": "stdout",
     "output_type": "stream",
     "text": [
      "67/67 [==============================] - 0s 6ms/step - loss: 169.9269 - mae: 9.5028\n"
     ]
    },
    {
     "data": {
      "text/plain": [
       "[169.9268798828125, 9.502808570861816]"
      ]
     },
     "execution_count": 87,
     "metadata": {},
     "output_type": "execute_result"
    }
   ],
   "source": [
    "ecg_age_model_1.evaluate(X_test, y_test)"
   ]
  },
  {
   "attachments": {},
   "cell_type": "markdown",
   "metadata": {},
   "source": [
    "## Performance Analysis"
   ]
  },
  {
   "cell_type": "code",
   "execution_count": null,
   "metadata": {},
   "outputs": [
    {
     "name": "stdout",
     "output_type": "stream",
     "text": [
      "67/67 [==============================] - 0s 6ms/step\n"
     ]
    },
    {
     "data": {
      "text/html": [
       "<div>\n",
       "<style scoped>\n",
       "    .dataframe tbody tr th:only-of-type {\n",
       "        vertical-align: middle;\n",
       "    }\n",
       "\n",
       "    .dataframe tbody tr th {\n",
       "        vertical-align: top;\n",
       "    }\n",
       "\n",
       "    .dataframe thead th {\n",
       "        text-align: right;\n",
       "    }\n",
       "</style>\n",
       "<table border=\"1\" class=\"dataframe\">\n",
       "  <thead>\n",
       "    <tr style=\"text-align: right;\">\n",
       "      <th></th>\n",
       "      <th>patient_id</th>\n",
       "      <th>age</th>\n",
       "      <th>sex</th>\n",
       "      <th>height</th>\n",
       "      <th>weight</th>\n",
       "      <th>nurse</th>\n",
       "      <th>site</th>\n",
       "      <th>device</th>\n",
       "      <th>recording_date</th>\n",
       "      <th>report</th>\n",
       "      <th>...</th>\n",
       "      <th>baseline_drift</th>\n",
       "      <th>static_noise</th>\n",
       "      <th>burst_noise</th>\n",
       "      <th>electrodes_problems</th>\n",
       "      <th>extra_beats</th>\n",
       "      <th>pacemaker</th>\n",
       "      <th>strat_fold</th>\n",
       "      <th>filename_lr</th>\n",
       "      <th>filename_hr</th>\n",
       "      <th>diagnostic_superclass</th>\n",
       "    </tr>\n",
       "    <tr>\n",
       "      <th>ecg_id</th>\n",
       "      <th></th>\n",
       "      <th></th>\n",
       "      <th></th>\n",
       "      <th></th>\n",
       "      <th></th>\n",
       "      <th></th>\n",
       "      <th></th>\n",
       "      <th></th>\n",
       "      <th></th>\n",
       "      <th></th>\n",
       "      <th></th>\n",
       "      <th></th>\n",
       "      <th></th>\n",
       "      <th></th>\n",
       "      <th></th>\n",
       "      <th></th>\n",
       "      <th></th>\n",
       "      <th></th>\n",
       "      <th></th>\n",
       "      <th></th>\n",
       "      <th></th>\n",
       "    </tr>\n",
       "  </thead>\n",
       "  <tbody>\n",
       "    <tr>\n",
       "      <th>1106</th>\n",
       "      <td>7255.0</td>\n",
       "      <td>3.0</td>\n",
       "      <td>1</td>\n",
       "      <td>NaN</td>\n",
       "      <td>NaN</td>\n",
       "      <td>NaN</td>\n",
       "      <td>11.0</td>\n",
       "      <td>AT-6     6</td>\n",
       "      <td>1987-08-14 18:28:27</td>\n",
       "      <td>sinus rhythm. normal ecg for age.</td>\n",
       "      <td>...</td>\n",
       "      <td>NaN</td>\n",
       "      <td>NaN</td>\n",
       "      <td>NaN</td>\n",
       "      <td>NaN</td>\n",
       "      <td>NaN</td>\n",
       "      <td>NaN</td>\n",
       "      <td>3</td>\n",
       "      <td>records100/01000/01106_lr</td>\n",
       "      <td>records500/01000/01106_hr</td>\n",
       "      <td>[NORM]</td>\n",
       "    </tr>\n",
       "    <tr>\n",
       "      <th>9736</th>\n",
       "      <td>1681.0</td>\n",
       "      <td>3.0</td>\n",
       "      <td>1</td>\n",
       "      <td>100.0</td>\n",
       "      <td>16.0</td>\n",
       "      <td>6.0</td>\n",
       "      <td>1.0</td>\n",
       "      <td>AT-6 C 5.8</td>\n",
       "      <td>1993-01-28 11:10:45</td>\n",
       "      <td>sinus rhythm. normal ecg for age.</td>\n",
       "      <td>...</td>\n",
       "      <td>NaN</td>\n",
       "      <td>NaN</td>\n",
       "      <td>NaN</td>\n",
       "      <td>NaN</td>\n",
       "      <td>NaN</td>\n",
       "      <td>NaN</td>\n",
       "      <td>9</td>\n",
       "      <td>records100/09000/09736_lr</td>\n",
       "      <td>records500/09000/09736_hr</td>\n",
       "      <td>[NORM]</td>\n",
       "    </tr>\n",
       "  </tbody>\n",
       "</table>\n",
       "<p>2 rows × 28 columns</p>\n",
       "</div>"
      ],
      "text/plain": [
       "        patient_id  age  sex  height  weight  nurse  site      device  \\\n",
       "ecg_id                                                                  \n",
       "1106        7255.0  3.0    1     NaN     NaN    NaN  11.0  AT-6     6   \n",
       "9736        1681.0  3.0    1   100.0    16.0    6.0   1.0  AT-6 C 5.8   \n",
       "\n",
       "             recording_date                             report  ...  \\\n",
       "ecg_id                                                          ...   \n",
       "1106    1987-08-14 18:28:27  sinus rhythm. normal ecg for age.  ...   \n",
       "9736    1993-01-28 11:10:45  sinus rhythm. normal ecg for age.  ...   \n",
       "\n",
       "       baseline_drift static_noise burst_noise electrodes_problems  \\\n",
       "ecg_id                                                               \n",
       "1106              NaN          NaN         NaN                 NaN   \n",
       "9736              NaN          NaN         NaN                 NaN   \n",
       "\n",
       "        extra_beats  pacemaker  strat_fold                filename_lr  \\\n",
       "ecg_id                                                                  \n",
       "1106            NaN        NaN           3  records100/01000/01106_lr   \n",
       "9736            NaN        NaN           9  records100/09000/09736_lr   \n",
       "\n",
       "                      filename_hr diagnostic_superclass  \n",
       "ecg_id                                                   \n",
       "1106    records500/01000/01106_hr                [NORM]  \n",
       "9736    records500/09000/09736_hr                [NORM]  \n",
       "\n",
       "[2 rows x 28 columns]"
      ]
     },
     "execution_count": 157,
     "metadata": {},
     "output_type": "execute_result"
    }
   ],
   "source": [
    "y_pred = ecg_age_model_1.predict(X_test)\n",
    "unique_ages = np.unique(y_test)"
   ]
  },
  {
   "cell_type": "code",
   "execution_count": null,
   "metadata": {},
   "outputs": [
    {
     "data": {
      "image/png": "[encoded data removed]",
      "text/plain": [
       "<Figure size 2160x1080 with 1 Axes>"
      ]
     },
     "metadata": {
      "needs_background": "light"
     },
     "output_type": "display_data"
    }
   ],
   "source": [
    "import seaborn as sns\n",
    "\n",
    "# Create a DataFrame from the data\n",
    "data = pd.DataFrame({'Category': np.squeeze(y_test), 'Values': np.squeeze(y_pred)})\n",
    "\n",
    "# Create a group boxplot using seaborn\n",
    "plt.figure(figsize=(30, 15))\n",
    "plt.grid(True, axis='y', linestyle='--', alpha=0.7)\n",
    "sns.boxplot(x='Category', y='Values', data=data, width=0.6)\n",
    "plt.xlabel('Category')\n",
    "plt.ylabel('Values')\n",
    "plt.yticks(range(0, 110, 5)) \n",
    "plt.title('Grouped Box Plot')\n",
    "plt.show()"
   ]
  },
  {
   "attachments": {},
   "cell_type": "markdown",
   "metadata": {},
   "source": [
    "### Further Data manipulation\n",
    "We however do not recommend the use of time inversion, spatial inversion, permutation, and lead shuffling, whereas a careful design of all other basic DA techniques is needed. "
   ]
  }
 ],
 "metadata": {
  "kernelspec": {
   "display_name": "Python 3",
   "language": "python",
   "name": "python3"
  },
  "language_info": {
   "codemirror_mode": {
    "name": "ipython",
    "version": 3
   },
   "file_extension": ".py",
   "mimetype": "text/x-python",
   "name": "python",
   "nbconvert_exporter": "python",
   "pygments_lexer": "ipython3",
   "version": "3.9.16"
  },
  "orig_nbformat": 4
 },
 "nbformat": 4,
 "nbformat_minor": 2
}
