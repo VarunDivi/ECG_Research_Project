{
 "cells": [
  {
   "cell_type": "code",
   "execution_count": null,
   "metadata": {},
   "outputs": [],
   "source": [
    "import tensorflow as tf # Models ran in venv python 3.9.16 with GPU computing support\n",
    "from tensorflow.keras.utils import plot_model\n",
    "import pandas as pd\n",
    "import numpy as np\n",
    "import matplotlib.pyplot as plt\n",
    "import wfdb\n",
    "import ast\n",
    "import ecg_plot\n",
    "import xgboost as xgb \n",
    "import tensorflow as tf # Models ran in venv python 3.9.16 with GPU computing support\n",
    "import os\n",
    "import scipy.io as sio\n",
    "from scipy import signal"
   ]
  },
  {
   "cell_type": "code",
   "execution_count": 1,
   "metadata": {},
   "outputs": [],
   "source": [
    "import pandas as pd\n",
    "import numpy as np\n",
    "import wfdb\n",
    "import math\n",
    "import ast\n",
    "from sklearn.model_selection import train_test_split\n",
    "import matplotlib.pyplot as plt\n",
    "import tensorflow as tf\n",
    "from sklearn.model_selection import train_test_split\n",
    "from keras.models import Sequential\n",
    "from keras.layers import Conv1D, MaxPooling1D, Flatten, Dense, BatchNormalization, Activation, Dropout\n",
    "from keras.utils import to_categorical\n",
    "sr =100\n",
    "\n",
    "with tf.device('/CPU:0'):\n",
    "    ### Loading raw data into mutable Datframes\n",
    "    ptb = pd.read_csv('../data/ptbxl_database.csv')\n",
    "    def load_raw_data(df, sampling_rate, path):\n",
    "        if(sampling_rate == 100):\n",
    "            data = [wfdb.rdsamp(path+f) for f in df.filename_lr]\n",
    "        else:\n",
    "            data = [wfdb.rdsamp(path+f) for f in df.filename_hr]\n",
    "        data = np.array([signal for signal, meta in data])\n",
    "        return data\n",
    "    \n",
    "    # load and convert annotation data\n",
    "    Y = pd.read_csv('../data/ptbxl_database.csv', index_col='ecg_id')\n",
    "    Y.scp_codes = Y.scp_codes.apply(lambda x: ast.literal_eval(x))\n",
    "\n",
    "    # Load raw signal data\n",
    "    X = load_raw_data(Y, sr, '../data/')\n",
    "\n",
    "    # Load scp_statements.csv for diagnostic aggregation\n",
    "    agg_df = pd.read_csv('../data/scp_statements.csv', index_col=0)\n",
    "    agg_df = agg_df[agg_df.diagnostic == 1]\n",
    "\n",
    "    def aggregate_diagnostic(y_dic):\n",
    "        tmp = []\n",
    "        for key in y_dic.keys():\n",
    "            if key in agg_df.index:\n",
    "                tmp.append(agg_df.loc[key].diagnostic_class)\n",
    "        return list(set(tmp))\n",
    "\n",
    "\n",
    "    # Apply diagnostic superclass\n",
    "    Y['diagnostic_superclass'] = Y.scp_codes.apply(aggregate_diagnostic)\n"
   ]
  },
  {
   "cell_type": "code",
   "execution_count": null,
   "metadata": {},
   "outputs": [],
   "source": [
    "import numpy as np\n",
    "from scipy import signal\n",
    "with tf.device('/CPU:0'):\n",
    "    # Define the filter parameters\n",
    "    fs = 100  # Sampling frequency (Hz)\n",
    "    lowcut = 0.5  # Lower cutoff frequency (Hz)\n",
    "    highcut = 40.0  # Higher cutoff frequency (Hz)\n",
    "    filter_order = 4  # Filter order\n",
    "\n",
    "    def bandpass(X, fs, lowcut, highcut, filter_order):\n",
    "        # Apply bandpass filter to each channel\n",
    "        filtered_data = np.zeros_like(X)\n",
    "        for i in range(X.shape[2]):\n",
    "            for j in range(X.shape[0]):\n",
    "                b, a = signal.butter(filter_order, [lowcut, highcut], fs=fs, btype='band', output='ba')\n",
    "                filtered_data[j, :, i] = signal.filtfilt(b, a, X[j, :, i])\n",
    "\n",
    "        # Print the shape of the filtered data\n",
    "        return filtered_data"
   ]
  },
  {
   "cell_type": "markdown",
   "metadata": {},
   "source": [
    "GAN Presets"
   ]
  },
  {
   "cell_type": "code",
   "execution_count": null,
   "metadata": {},
   "outputs": [],
   "source": [
    "X_co = X.copy()"
   ]
  },
  {
   "cell_type": "code",
   "execution_count": 2,
   "metadata": {},
   "outputs": [],
   "source": [
    "gan_data_length = 2000\n",
    "gan_data = np.load('../')\n",
    "#X__ = np.append(X_co, gan_data)"
   ]
  },
  {
   "cell_type": "code",
   "execution_count": null,
   "metadata": {},
   "outputs": [],
   "source": [
    "X = np.concatenate((X_co, gan_data), axis=0)"
   ]
  },
  {
   "cell_type": "code",
   "execution_count": null,
   "metadata": {},
   "outputs": [],
   "source": [
    "new_rows = pd.DataFrame({\n",
    "    'patient_id': np.arange(len(Y) + 1, len(Y) + 1 + gan_data_length),\n",
    "    'age': np.floor(np.random.uniform(18, 25, gan_data_length)),\n",
    "    'sex': np.random.randint(0, 2, gan_data_length),\n",
    "})\n",
    "Y = pd.concat([Y,new_rows])\n"
   ]
  },
  {
   "cell_type": "code",
   "execution_count": null,
   "metadata": {},
   "outputs": [
    {
     "data": {
      "text/plain": [
       "array([[-0.119, -0.055,  0.064, ..., -0.026, -0.039, -0.079],\n",
       "       [-0.116, -0.051,  0.065, ..., -0.031, -0.034, -0.074],\n",
       "       [-0.12 , -0.044,  0.076, ..., -0.028, -0.029, -0.069],\n",
       "       ...,\n",
       "       [ 0.069,  0.   , -0.069, ...,  0.024, -0.041, -0.058],\n",
       "       [ 0.086,  0.004, -0.081, ...,  0.242, -0.046, -0.098],\n",
       "       [ 0.022, -0.031, -0.054, ...,  0.143, -0.035, -0.12 ]])"
      ]
     },
     "metadata": {},
     "output_type": "display_data"
    }
   ],
   "source": []
  },
  {
   "cell_type": "code",
   "execution_count": null,
   "metadata": {},
   "outputs": [],
   "source": [
    "with tf.device('/CPU:0'):\n",
    "    def normalize(X, shape = False):\n",
    "        # Compute mean and standard deviation along axis 1 and 2\n",
    "        X_mean = np.mean(X)\n",
    "        X_std = np.std(X)\n",
    "\n",
    "        if(shape):\n",
    "            print(X.shape)\n",
    "        # Normalize data by subtracting mean and dividing by standard deviation\n",
    "        return ((X - X_mean) / X_std)\n",
    "\n",
    "\n",
    "    bld = 0.5\n",
    "    def baseline_drift(X, baseline, range = 0):\n",
    "        bld_range = (baseline-range, baseline+range)\n",
    "        random_shifts = np.random.uniform(bld_range[0], bld_range[1], size = X.shape)\n",
    "        return X + random_shifts"
   ]
  },
  {
   "cell_type": "code",
   "execution_count": null,
   "metadata": {},
   "outputs": [],
   "source": [
    "with tf.device('/GPU:0'):\n",
    "    def da_apply(X, functions, shape = False):\n",
    "        X_final = X.copy()\n",
    "\n",
    "        # Applys DA Augments in specified order\n",
    "        for func_dict in functions:\n",
    "            func = func_dict['func']\n",
    "            if(func_dict['params'] == None):\n",
    "                X_final = func(X_final)     \n",
    "            else:\n",
    "                params = func_dict['params']\n",
    "                X_final = func(X_final, *params)  \n",
    "\n",
    "        if(shape == True):\n",
    "            print(X_final.shape)\n",
    "\n",
    "        return X_final\n",
    "\n",
    "    #func_dict = [{'func': normalize, 'params': [None]}]\n",
    "\n",
    "    #func_dict = [{'func': baseline_drift, 'params': [0,0.05]}]\n",
    "\n",
    "    func_dict =[{'func': normalize, 'params': [None]},\n",
    "                {'func': baseline_drift, 'params': [0,0.075]}]\n",
    "\n",
    "\n",
    "    # func_dict =[{'func': bandpass, 'params': [sr, 0.5, 15, 3]}, # 100, 0.5, 10, 3. Change the sampling rate as necessary\n",
    "    #             {'func': normalize, 'params': [None]},  # Normalizing across the entire data set instead of by lead\n",
    "    #             {'func': baseline_drift, 'params': [0,0.075]}]  # I found that simulating a 0.075 drift works best\n",
    "\n",
    "    X_final = da_apply(X, func_dict) # If you want to experiment with data shape more, use a smaller data size. Subset X"
   ]
  },
  {
   "cell_type": "code",
   "execution_count": 3,
   "metadata": {},
   "outputs": [
    {
     "ename": "MemoryError",
     "evalue": "Unable to allocate 1.52 GiB for an array with shape (17022, 1000, 12) and data type float64",
     "output_type": "error",
     "traceback": [
      "\u001b[1;31m---------------------------------------------------------------------------\u001b[0m",
      "\u001b[1;31mMemoryError\u001b[0m                               Traceback (most recent call last)",
      "\u001b[1;32m~\\AppData\\Local\\Temp/ipykernel_26968/237174114.py\u001b[0m in \u001b[0;36m<module>\u001b[1;34m\u001b[0m\n\u001b[0;32m     36\u001b[0m         \u001b[1;32mreturn\u001b[0m \u001b[0mrX_train\u001b[0m\u001b[1;33m,\u001b[0m \u001b[0mry_train\u001b[0m\u001b[1;33m,\u001b[0m \u001b[0mrX_val\u001b[0m\u001b[1;33m,\u001b[0m \u001b[0mry_val\u001b[0m\u001b[1;33m,\u001b[0m \u001b[0mrX_test\u001b[0m\u001b[1;33m,\u001b[0m \u001b[0mry_test\u001b[0m\u001b[1;33m\u001b[0m\u001b[1;33m\u001b[0m\u001b[0m\n\u001b[0;32m     37\u001b[0m \u001b[1;33m\u001b[0m\u001b[0m\n\u001b[1;32m---> 38\u001b[1;33m     \u001b[0mX_train\u001b[0m\u001b[1;33m,\u001b[0m \u001b[0my_train\u001b[0m\u001b[1;33m,\u001b[0m \u001b[0mX_val\u001b[0m\u001b[1;33m,\u001b[0m \u001b[0my_val\u001b[0m\u001b[1;33m,\u001b[0m \u001b[0mX_test\u001b[0m\u001b[1;33m,\u001b[0m \u001b[0my_test\u001b[0m \u001b[1;33m=\u001b[0m \u001b[0mtvt_split\u001b[0m\u001b[1;33m(\u001b[0m\u001b[0mX\u001b[0m\u001b[1;33m,\u001b[0m \u001b[0mY\u001b[0m\u001b[1;33m,\u001b[0m \u001b[0mval_fold\u001b[0m\u001b[1;33m,\u001b[0m \u001b[0mtest_fold\u001b[0m\u001b[1;33m,\u001b[0m \u001b[1;32mTrue\u001b[0m\u001b[1;33m)\u001b[0m\u001b[1;33m\u001b[0m\u001b[1;33m\u001b[0m\u001b[0m\n\u001b[0m",
      "\u001b[1;32m~\\AppData\\Local\\Temp/ipykernel_26968/237174114.py\u001b[0m in \u001b[0;36mtvt_split\u001b[1;34m(X, Y, val_fold, test_fold, shape)\u001b[0m\n\u001b[0;32m     22\u001b[0m         \u001b[0my_test\u001b[0m \u001b[1;33m=\u001b[0m \u001b[0my_test\u001b[0m\u001b[1;33m.\u001b[0m\u001b[0midxmax\u001b[0m\u001b[1;33m(\u001b[0m\u001b[0maxis\u001b[0m \u001b[1;33m=\u001b[0m \u001b[1;36m1\u001b[0m\u001b[1;33m)\u001b[0m\u001b[1;33m.\u001b[0m\u001b[0mto_numpy\u001b[0m\u001b[1;33m(\u001b[0m\u001b[1;33m)\u001b[0m\u001b[1;33m\u001b[0m\u001b[1;33m\u001b[0m\u001b[0m\n\u001b[0;32m     23\u001b[0m \u001b[1;33m\u001b[0m\u001b[0m\n\u001b[1;32m---> 24\u001b[1;33m         \u001b[0mrX_train\u001b[0m \u001b[1;33m=\u001b[0m \u001b[0mX_train\u001b[0m\u001b[1;33m[\u001b[0m\u001b[1;33m(\u001b[0m\u001b[0my_train\u001b[0m \u001b[1;33m<\u001b[0m \u001b[1;36m89\u001b[0m\u001b[1;33m)\u001b[0m \u001b[1;33m&\u001b[0m \u001b[1;33m(\u001b[0m\u001b[0my_train\u001b[0m \u001b[1;33m>=\u001b[0m \u001b[1;36m18\u001b[0m\u001b[1;33m)\u001b[0m\u001b[1;33m]\u001b[0m \u001b[1;31m# Additional filtering of patients older than 89 and younger than 18\u001b[0m\u001b[1;33m\u001b[0m\u001b[1;33m\u001b[0m\u001b[0m\n\u001b[0m\u001b[0;32m     25\u001b[0m         \u001b[0mry_train\u001b[0m \u001b[1;33m=\u001b[0m \u001b[0my_train\u001b[0m\u001b[1;33m[\u001b[0m\u001b[1;33m(\u001b[0m\u001b[0my_train\u001b[0m \u001b[1;33m<\u001b[0m \u001b[1;36m89\u001b[0m\u001b[1;33m)\u001b[0m \u001b[1;33m&\u001b[0m \u001b[1;33m(\u001b[0m\u001b[0my_train\u001b[0m \u001b[1;33m>=\u001b[0m \u001b[1;36m18\u001b[0m\u001b[1;33m)\u001b[0m\u001b[1;33m]\u001b[0m\u001b[1;33m\u001b[0m\u001b[1;33m\u001b[0m\u001b[0m\n\u001b[0;32m     26\u001b[0m \u001b[1;33m\u001b[0m\u001b[0m\n",
      "\u001b[1;31mMemoryError\u001b[0m: Unable to allocate 1.52 GiB for an array with shape (17022, 1000, 12) and data type float64"
     ]
    }
   ],
   "source": [
    "\n",
    "with tf.device('/GPU:0'):\n",
    "    # Split data into train and test\n",
    "    test_fold =10\n",
    "    val_fold = 9\n",
    "\n",
    "    def tvt_split(X, Y, val_fold, test_fold, shape = False):\n",
    "        X_train = X[(Y.strat_fold != test_fold) & (Y.strat_fold != val_fold)]\n",
    "        y_train = Y[(Y.strat_fold != test_fold) & (Y.strat_fold != val_fold)].age\n",
    "\n",
    "        X_val = X[Y.strat_fold == val_fold]\n",
    "        y_val = Y[Y.strat_fold == val_fold].age\n",
    "\n",
    "        X_test = X[(Y.strat_fold == test_fold)]\n",
    "        y_test = Y[Y.strat_fold == test_fold].age\n",
    "\n",
    "        y_train = pd.get_dummies(y_train)\n",
    "        y_val = pd.get_dummies(y_val)\n",
    "        y_test = pd.get_dummies(y_test)\n",
    "\n",
    "        y_train = y_train.idxmax(axis = 1).to_numpy()\n",
    "        y_val = y_val.idxmax(axis = 1).to_numpy()\n",
    "        y_test = y_test.idxmax(axis = 1).to_numpy()\n",
    "\n",
    "        rX_train = X_train[(y_train < 89) & (y_train >= 18)] # Additional filtering of patients older than 89 and younger than 18\n",
    "        ry_train = y_train[(y_train < 89) & (y_train >= 18)]\n",
    "\n",
    "        rX_val = X_val[(y_val < 89) & (y_val >= 18)]\n",
    "        ry_val = y_val[(y_val < 89) & (y_val >= 18)]\n",
    "\n",
    "        rX_test = X_test[(y_test < 89) & (y_test >= 18)]\n",
    "        ry_test = y_test[(y_test < 89) & (y_test >= 18)]\n",
    "\n",
    "        if(shape == True):\n",
    "            print((X_train.shape, y_train.shape, X_val.shape, y_val.shape, X_test.shape, y_test.shape))\n",
    "\n",
    "        return rX_train, ry_train, rX_val, ry_val, rX_test, ry_test\n",
    "\n",
    "    X_train, y_train, X_val, y_val, X_test, y_test = tvt_split(X, Y, val_fold, test_fold, True)"
   ]
  },
  {
   "cell_type": "code",
   "execution_count": null,
   "metadata": {},
   "outputs": [],
   "source": [
    "def data_subsetting(X, Y):\n",
    "\n",
    "        Y_filtered = Y.age\n",
    "        Y_filtered = Y_filtered.to_numpy()\n",
    "\n",
    "        X_filtered = X[(Y_filtered < 89) & (Y_filtered >= 18)] # Additional filtering of patients older than 89 and younger than 18\n",
    "        Y_filtered = Y_filtered[(Y_filtered < 89) & (Y_filtered >= 18)]\n",
    "        Y_filtered_full = Y[(Y.age < 89) & (Y.age >= 18)]\n",
    "\n",
    "        return X_filtered, Y_filtered, Y_filtered_full\n",
    "\n",
    "X_filtered, Y_filtered, Y_filtered_full = data_subsetting(X_final, Y)"
   ]
  },
  {
   "cell_type": "code",
   "execution_count": null,
   "metadata": {},
   "outputs": [],
   "source": [
    "import os\n",
    "\n",
    "class SaveModelCallback(tf.keras.callbacks.Callback):\n",
    "    def __init__(self, threshold, save_path=\"../saved_models/100hz/age_models/\"):\n",
    "        super(SaveModelCallback, self).__init__()\n",
    "        self.threshold = threshold\n",
    "        self.save_path = save_path\n",
    "\n",
    "    def on_epoch_end(self, epoch, logs=None):\n",
    "        val_loss = logs.get('val_loss', None)\n",
    "        if val_loss is not None and val_loss <= self.threshold:\n",
    "            # Prepare the model name with the validation loss\n",
    "            mod_name = f'age_model_val_loss_{val_loss:.4f}.h5'\n",
    "            model_path = os.path.join(self.save_path, mod_name)\n",
    "            # Save the entire model\n",
    "            self.model.save(model_path)\n",
    "            print(f'Model saved: {model_path}')\n",
    "        elif val_loss is None:\n",
    "            print(\"Validation loss is not available. Check if the validation data is provided and 'val_loss' is being computed.\")"
   ]
  },
  {
   "cell_type": "code",
   "execution_count": null,
   "metadata": {},
   "outputs": [
    {
     "name": "stdout",
     "output_type": "stream",
     "text": [
      "Epoch 1/75\n",
      "298/298 [==============================] - 56s 107ms/step - loss: 17.4442 - mse: 600.0905 - val_loss: 17.6388 - val_mse: 419.0403\n",
      "Epoch 2/75\n",
      "298/298 [==============================] - 29s 96ms/step - loss: 9.9844 - mse: 170.4140 - val_loss: 9.0608 - val_mse: 132.3082\n",
      "Epoch 3/75\n",
      "298/298 [==============================] - 28s 92ms/step - loss: 9.2272 - mse: 147.3805 - val_loss: 8.8267 - val_mse: 127.0423\n",
      "Epoch 4/75\n",
      "298/298 [==============================] - 26s 86ms/step - loss: 8.9954 - mse: 139.7140 - val_loss: 8.9734 - val_mse: 130.4640\n",
      "Epoch 5/75\n",
      "298/298 [==============================] - 30s 100ms/step - loss: 8.8168 - mse: 134.0631 - val_loss: 9.3792 - val_mse: 148.5935\n",
      "Epoch 6/75\n",
      "298/298 [==============================] - 28s 93ms/step - loss: 8.6493 - mse: 129.1476 - val_loss: 8.2685 - val_mse: 111.1834\n",
      "Epoch 7/75\n",
      "298/298 [==============================] - 31s 103ms/step - loss: 8.5989 - mse: 127.6734 - val_loss: 8.4484 - val_mse: 116.1509\n",
      "Epoch 8/75\n",
      "298/298 [==============================] - 27s 91ms/step - loss: 8.4391 - mse: 123.2793 - val_loss: 8.6643 - val_mse: 126.5117\n",
      "Epoch 9/75\n",
      "298/298 [==============================] - 25s 85ms/step - loss: 8.3738 - mse: 121.1190 - val_loss: 8.3449 - val_mse: 112.9812\n",
      "Epoch 10/75\n",
      "298/298 [==============================] - 28s 94ms/step - loss: 8.2896 - mse: 119.4839 - val_loss: 7.9906 - val_mse: 106.6460\n",
      "Epoch 11/75\n",
      "298/298 [==============================] - 26s 88ms/step - loss: 8.2026 - mse: 118.0440 - val_loss: 9.0909 - val_mse: 133.4807\n",
      "Epoch 12/75\n",
      "298/298 [==============================] - 28s 92ms/step - loss: 8.1483 - mse: 116.7234 - val_loss: 8.0233 - val_mse: 106.4101\n",
      "Epoch 13/75\n",
      "298/298 [==============================] - 32s 108ms/step - loss: 8.0454 - mse: 113.2647 - val_loss: 9.2399 - val_mse: 136.7479\n",
      "Epoch 14/75\n",
      "298/298 [==============================] - 27s 91ms/step - loss: 8.0601 - mse: 113.4932 - val_loss: 8.2334 - val_mse: 110.3894\n",
      "Epoch 15/75\n",
      "298/298 [==============================] - 28s 95ms/step - loss: 7.9692 - mse: 110.8438 - val_loss: 8.9695 - val_mse: 135.8220\n",
      "Epoch 16/75\n",
      "298/298 [==============================] - 28s 95ms/step - loss: 7.9651 - mse: 110.2508 - val_loss: 8.0843 - val_mse: 108.3632\n",
      "Epoch 17/75\n",
      "298/298 [==============================] - 26s 87ms/step - loss: 7.9163 - mse: 109.6448 - val_loss: 8.1486 - val_mse: 109.7589\n",
      "Epoch 18/75\n",
      "298/298 [==============================] - 28s 94ms/step - loss: 7.8966 - mse: 108.3400 - val_loss: 8.4579 - val_mse: 116.2077\n",
      "Epoch 19/75\n",
      "298/298 [==============================] - 24s 79ms/step - loss: 7.7688 - mse: 106.2160 - val_loss: 8.1739 - val_mse: 112.3417\n",
      "Epoch 20/75\n",
      "298/298 [==============================] - 25s 85ms/step - loss: 7.7597 - mse: 105.8845 - val_loss: 8.1561 - val_mse: 111.0034\n",
      "Epoch 21/75\n",
      "297/298 [============================>.] - ETA: 0s - loss: 7.7600 - mse: 104.8170Model saved: ../saved_models/100hz/age_models/age_model_val_loss_7.8684.h5\n",
      "298/298 [==============================] - 29s 96ms/step - loss: 7.7599 - mse: 104.8110 - val_loss: 7.8684 - val_mse: 104.1799\n",
      "Epoch 22/75\n",
      "298/298 [==============================] - 24s 81ms/step - loss: 7.6479 - mse: 102.4785 - val_loss: 8.0270 - val_mse: 109.0675\n",
      "Epoch 23/75\n",
      "298/298 [==============================] - 26s 86ms/step - loss: 7.7027 - mse: 102.9249 - val_loss: 8.2425 - val_mse: 112.1580\n",
      "Epoch 24/75\n",
      "298/298 [==============================] - 26s 88ms/step - loss: 7.6015 - mse: 101.1384 - val_loss: 8.3898 - val_mse: 118.4785\n",
      "Epoch 25/75\n",
      "298/298 [==============================] - 26s 87ms/step - loss: 7.5328 - mse: 99.7586 - val_loss: 8.4548 - val_mse: 120.8975\n",
      "Epoch 26/75\n",
      "298/298 [==============================] - 25s 85ms/step - loss: 7.4721 - mse: 97.5994 - val_loss: 8.0016 - val_mse: 106.6831\n",
      "Epoch 27/75\n",
      "298/298 [==============================] - 26s 87ms/step - loss: 7.5280 - mse: 98.8441 - val_loss: 8.0040 - val_mse: 106.4216\n",
      "Epoch 28/75\n",
      "298/298 [==============================] - 27s 89ms/step - loss: 7.4820 - mse: 97.6894 - val_loss: 8.3059 - val_mse: 114.6730\n",
      "Epoch 29/75\n",
      "297/298 [============================>.] - ETA: 0s - loss: 7.3876 - mse: 95.5025Model saved: ../saved_models/100hz/age_models/age_model_val_loss_7.9242.h5\n",
      "298/298 [==============================] - 28s 93ms/step - loss: 7.3907 - mse: 95.5852 - val_loss: 7.9242 - val_mse: 105.3267\n",
      "Epoch 30/75\n",
      "298/298 [==============================] - 25s 82ms/step - loss: 7.3196 - mse: 94.3990 - val_loss: 8.5201 - val_mse: 123.7553\n",
      "Epoch 31/75\n",
      "298/298 [==============================] - 24s 81ms/step - loss: 7.2818 - mse: 92.6478 - val_loss: 8.0007 - val_mse: 107.5427\n",
      "Epoch 32/75\n",
      "297/298 [============================>.] - ETA: 0s - loss: 7.2878 - mse: 92.9649Model saved: ../saved_models/100hz/age_models/age_model_val_loss_7.9431.h5\n",
      "298/298 [==============================] - 24s 79ms/step - loss: 7.2886 - mse: 92.9782 - val_loss: 7.9431 - val_mse: 105.2145\n",
      "Epoch 33/75\n",
      "298/298 [==============================] - 27s 92ms/step - loss: 7.2948 - mse: 93.5819 - val_loss: 8.2397 - val_mse: 113.2121\n",
      "Epoch 34/75\n",
      "298/298 [==============================] - 25s 85ms/step - loss: 7.2118 - mse: 91.0756 - val_loss: 8.0277 - val_mse: 108.7193\n",
      "Epoch 35/75\n",
      "298/298 [==============================] - 27s 92ms/step - loss: 7.1855 - mse: 90.6304 - val_loss: 8.3357 - val_mse: 116.0583\n",
      "Epoch 36/75\n",
      "297/298 [============================>.] - ETA: 0s - loss: 7.1897 - mse: 90.0010Model saved: ../saved_models/100hz/age_models/age_model_val_loss_7.9075.h5\n",
      "298/298 [==============================] - 28s 94ms/step - loss: 7.1901 - mse: 90.0415 - val_loss: 7.9075 - val_mse: 104.3427\n",
      "Epoch 37/75\n",
      "298/298 [==============================] - 25s 82ms/step - loss: 7.1407 - mse: 90.0644 - val_loss: 8.3680 - val_mse: 119.4425\n",
      "Epoch 38/75\n",
      "298/298 [==============================] - 27s 90ms/step - loss: 7.0927 - mse: 88.2809 - val_loss: 8.0415 - val_mse: 111.7630\n",
      "Epoch 39/75\n",
      "298/298 [==============================] - 25s 85ms/step - loss: 7.0414 - mse: 87.2359 - val_loss: 8.1333 - val_mse: 111.2126\n",
      "Epoch 40/75\n",
      "298/298 [==============================] - 25s 83ms/step - loss: 7.0513 - mse: 87.2395 - val_loss: 8.2123 - val_mse: 112.9911\n",
      "Epoch 41/75\n",
      "298/298 [==============================] - 26s 87ms/step - loss: 7.0393 - mse: 86.9692 - val_loss: 7.9964 - val_mse: 107.9931\n",
      "Epoch 42/75\n",
      "298/298 [==============================] - 25s 83ms/step - loss: 7.0207 - mse: 86.4872 - val_loss: 8.2078 - val_mse: 114.6996\n",
      "Epoch 43/75\n",
      "298/298 [==============================] - 26s 88ms/step - loss: 6.9859 - mse: 86.2485 - val_loss: 8.3311 - val_mse: 117.5257\n",
      "Epoch 44/75\n",
      "298/298 [==============================] - 27s 90ms/step - loss: 6.9299 - mse: 84.6297 - val_loss: 8.8343 - val_mse: 130.4327\n",
      "Epoch 45/75\n",
      "298/298 [==============================] - 30s 100ms/step - loss: 6.9912 - mse: 85.5321 - val_loss: 8.2121 - val_mse: 113.8079\n",
      "Epoch 46/75\n",
      "298/298 [==============================] - 30s 100ms/step - loss: 6.8016 - mse: 82.2850 - val_loss: 8.2485 - val_mse: 116.1438\n",
      "Epoch 47/75\n",
      "298/298 [==============================] - 30s 98ms/step - loss: 6.8555 - mse: 82.4011 - val_loss: 8.0416 - val_mse: 109.7919\n",
      "Epoch 48/75\n",
      "298/298 [==============================] - 32s 108ms/step - loss: 6.8807 - mse: 82.7978 - val_loss: 8.2874 - val_mse: 117.1236\n",
      "Epoch 49/75\n",
      "298/298 [==============================] - 31s 103ms/step - loss: 6.8180 - mse: 81.2056 - val_loss: 8.2207 - val_mse: 114.7318\n",
      "Epoch 50/75\n",
      "298/298 [==============================] - 30s 99ms/step - loss: 6.7936 - mse: 81.0399 - val_loss: 8.0372 - val_mse: 109.6295\n",
      "Epoch 51/75\n",
      "298/298 [==============================] - 38s 128ms/step - loss: 6.8142 - mse: 81.7802 - val_loss: 8.5227 - val_mse: 119.8759\n",
      "Epoch 52/75\n",
      "298/298 [==============================] - 35s 118ms/step - loss: 6.7323 - mse: 78.5445 - val_loss: 8.3911 - val_mse: 121.3176\n",
      "Epoch 53/75\n",
      "298/298 [==============================] - 38s 128ms/step - loss: 6.7159 - mse: 79.5592 - val_loss: 8.0567 - val_mse: 109.8464\n",
      "Epoch 54/75\n",
      "298/298 [==============================] - 38s 129ms/step - loss: 6.7439 - mse: 80.4928 - val_loss: 8.4665 - val_mse: 120.2347\n",
      "Epoch 55/75\n",
      "298/298 [==============================] - 31s 104ms/step - loss: 6.6887 - mse: 78.6013 - val_loss: 7.9704 - val_mse: 105.9734\n",
      "Epoch 56/75\n",
      "298/298 [==============================] - 27s 91ms/step - loss: 6.6951 - mse: 78.7309 - val_loss: 8.0974 - val_mse: 111.1919\n",
      "Epoch 57/75\n",
      "298/298 [==============================] - 31s 104ms/step - loss: 6.6201 - mse: 76.9103 - val_loss: 8.9300 - val_mse: 131.2840\n",
      "Epoch 58/75\n",
      "298/298 [==============================] - 30s 99ms/step - loss: 6.6072 - mse: 77.2771 - val_loss: 7.9655 - val_mse: 105.2183\n",
      "Epoch 59/75\n",
      "298/298 [==============================] - 30s 101ms/step - loss: 6.5384 - mse: 75.6457 - val_loss: 8.1423 - val_mse: 112.5130\n",
      "Epoch 60/75\n",
      "298/298 [==============================] - 29s 96ms/step - loss: 6.5237 - mse: 75.5624 - val_loss: 8.1151 - val_mse: 109.9195\n",
      "Epoch 61/75\n",
      "298/298 [==============================] - 29s 97ms/step - loss: 6.5571 - mse: 75.5080 - val_loss: 8.2147 - val_mse: 113.4631\n",
      "Epoch 62/75\n",
      "298/298 [==============================] - 29s 97ms/step - loss: 6.5600 - mse: 76.2317 - val_loss: 8.2213 - val_mse: 112.1846\n",
      "Epoch 63/75\n",
      "298/298 [==============================] - 31s 105ms/step - loss: 6.5163 - mse: 74.8619 - val_loss: 8.3541 - val_mse: 117.6197\n",
      "Epoch 64/75\n",
      "298/298 [==============================] - 30s 102ms/step - loss: 6.5238 - mse: 74.7016 - val_loss: 8.2221 - val_mse: 113.3584\n",
      "Epoch 65/75\n",
      "298/298 [==============================] - 34s 113ms/step - loss: 6.4750 - mse: 73.8334 - val_loss: 8.1469 - val_mse: 111.4893\n",
      "Epoch 66/75\n",
      "298/298 [==============================] - 35s 116ms/step - loss: 6.4825 - mse: 73.8661 - val_loss: 8.4173 - val_mse: 120.6689\n",
      "Epoch 67/75\n",
      "298/298 [==============================] - 33s 109ms/step - loss: 6.4247 - mse: 73.1401 - val_loss: 8.1042 - val_mse: 111.2261\n",
      "Epoch 68/75\n",
      "298/298 [==============================] - 32s 106ms/step - loss: 6.4257 - mse: 73.0255 - val_loss: 8.1248 - val_mse: 112.6685\n",
      "Epoch 69/75\n",
      "298/298 [==============================] - 31s 105ms/step - loss: 6.3706 - mse: 71.9275 - val_loss: 8.3382 - val_mse: 117.2755\n",
      "Epoch 70/75\n",
      "298/298 [==============================] - 30s 102ms/step - loss: 6.3462 - mse: 71.0827 - val_loss: 8.5168 - val_mse: 122.1019\n",
      "Epoch 71/75\n",
      "298/298 [==============================] - 32s 107ms/step - loss: 6.3785 - mse: 71.6784 - val_loss: 8.4630 - val_mse: 119.9215\n",
      "Epoch 72/75\n",
      "298/298 [==============================] - 35s 117ms/step - loss: 6.3146 - mse: 70.2795 - val_loss: 8.4559 - val_mse: 120.5005\n",
      "Epoch 73/75\n",
      "298/298 [==============================] - 40s 134ms/step - loss: 6.2454 - mse: 69.1019 - val_loss: 8.3355 - val_mse: 117.3471\n",
      "Epoch 74/75\n",
      "298/298 [==============================] - 35s 116ms/step - loss: 6.2903 - mse: 70.0637 - val_loss: 8.2167 - val_mse: 114.5991\n",
      "Epoch 75/75\n",
      "298/298 [==============================] - 31s 103ms/step - loss: 6.2994 - mse: 69.7443 - val_loss: 8.6558 - val_mse: 126.8607\n"
     ]
    }
   ],
   "source": [
    "with tf.device('/GPU:0'):\n",
    "    # Batching\n",
    "    batch_size = 64   # Batch size determines the amount of data processed each round\n",
    "    num_epochs = 75   # All of the data is processed a certain number of time repetedly. Based on the number of epochs. \n",
    "    dataset = tf.data.Dataset.from_tensor_slices((X_train, y_train))   # Grouping the X and Y together. Similar to zipping\n",
    "\n",
    "    # Shuffle and batch the dataset\n",
    "    dataset = dataset.shuffle(buffer_size=len(X_train))   # We are able to shuffle both the X and Y the same because they are grouped. \n",
    "    dataset = dataset.batch(batch_size)    # The input data is split into the batch size\n",
    "\n",
    "\n",
    "    # Creating the model\n",
    "    cnn_rnn_age_model = tf.keras.Sequential([\n",
    "        tf.keras.layers.Conv1D(filters = 32, kernel_size = 8, strides = 4, padding = \"valid\", activation='relu'),\n",
    "        tf.keras.layers.BatchNormalization(),\n",
    "        tf.keras.layers.MaxPool1D(pool_size=2, strides = 1, padding = \"valid\"),\n",
    "\n",
    "        tf.keras.layers.Conv1D(filters = 48, kernel_size = 6, strides = 3, padding = \"valid\", activation = 'relu'),\n",
    "        tf.keras.layers.BatchNormalization(),\n",
    "        tf.keras.layers.MaxPool1D(pool_size=3, strides = 1, padding = \"valid\"),\n",
    "        tf.keras.layers.Dropout(0.2, seed = 13),\n",
    "\n",
    "        tf.keras.layers.Conv1D(filters = 64, kernel_size = 4, strides = 2, padding = \"valid\", activation = 'relu'),\n",
    "        tf.keras.layers.BatchNormalization(),\n",
    "        tf.keras.layers.MaxPool1D(pool_size=2, strides = 1, padding = \"valid\"),\n",
    "\n",
    "        tf.keras.layers.Conv1D(filters = 96, kernel_size = 3, strides = 1, padding = \"valid\", activation = 'relu'),\n",
    "        tf.keras.layers.BatchNormalization(),\n",
    "        tf.keras.layers.MaxPool1D(pool_size=2, strides = 1, padding = \"valid\"),\n",
    "\n",
    "        tf.keras.layers.GlobalAveragePooling1D(),  # Global Average Pooling\n",
    "\n",
    "        tf.keras.layers.RepeatVector(3),  # Prepares the input shape for LSTM after Global Pooling\n",
    "\n",
    "        # Using Bidirectional LSTM and additional LSTM layer\n",
    "        tf.keras.layers.Bidirectional(tf.keras.layers.LSTM(32, return_sequences=True)),\n",
    "        tf.keras.layers.BatchNormalization(),\n",
    "\n",
    "        # Flattening the output to feed into a Dense layer\n",
    "        tf.keras.layers.Flatten(),\n",
    "\n",
    "        # Existing Dense Layers\n",
    "        tf.keras.layers.Dense(64, activation='relu'),\n",
    "        tf.keras.layers.Dropout(0.2),\n",
    "        tf.keras.layers.Dense(1, activation='linear')\n",
    "    ])\n",
    "\n",
    "\n",
    "    # Compiling the model\n",
    "    cnn_rnn_age_model.compile(loss = tf.keras.losses.mae,\n",
    "                        optimizer = tf.keras.optimizers.Adam(learning_rate= 0.001),\n",
    "                        metrics = ['mse'])\n",
    "\n",
    "\n",
    "    # Learning rate scheduler\n",
    "    peak_saver = SaveModelCallback(threshold = 7.96)\n",
    "\n",
    "    # Fitting the model\n",
    "    if(not load_model):\n",
    "        cnn_rnn_history = cnn_rnn_age_model.fit(dataset, epochs = num_epochs, validation_data = (X_val, y_val), callbacks=peak_saver)"
   ]
  },
  {
   "cell_type": "code",
   "execution_count": null,
   "metadata": {},
   "outputs": [],
   "source": [
    "load_model = False"
   ]
  },
  {
   "cell_type": "code",
   "execution_count": null,
   "metadata": {},
   "outputs": [],
   "source": [
    "def extract_features(model, layer_name, X):\n",
    "    feature_extraction_model = tf.keras.Model(inputs=model.input, outputs=model.get_layer(layer_name).output)\n",
    "    X_features = feature_extraction_model.predict(X)\n",
    "    return X_features\n",
    "\n",
    "def hybrid_prediction(cnn_model, xgb_model, X_new):\n",
    "    # Extract features for new data using CNN-LSTM model\n",
    "    X_new_features = extract_features(cnn_model, 'flatten', X_new)\n",
    "    \n",
    "    # Use XGBoost model to predict based on these features\n",
    "    predictions = xgb_model.predict(X_new_features)\n",
    "    \n",
    "    return predictions"
   ]
  },
  {
   "cell_type": "code",
   "execution_count": null,
   "metadata": {},
   "outputs": [
    {
     "name": "stdout",
     "output_type": "stream",
     "text": [
      "728/728 [==============================] - 21s 23ms/step\n",
      "[17:02:53] WARNING: C:/Jenkins/workspace/xgboost-win64_release_0.90/src/objective/regression_obj.cu:152: reg:linear is now deprecated in favor of reg:squarederror.\n"
     ]
    }
   ],
   "source": [
    "with tf.device('/CPU:0'):\n",
    "    if(load_model):\n",
    "        X_features = extract_features(cnn_rnn_age_model, 'flatten', X_filtered)\n",
    "        xgb_model = xgb.XGBRegressor(n_estimators=100, learning_rate=0.1)\n",
    "        xgb_model.fit(X_features, tf.cast(Y_filtered, dtype=tf.int32))"
   ]
  },
  {
   "cell_type": "code",
   "execution_count": null,
   "metadata": {},
   "outputs": [],
   "source": [
    "# Function to bin the age values into age blocks\n",
    "def bin_age(age):\n",
    "    if age <18:\n",
    "        return '<18'\n",
    "    elif age >= 18 and age <= 25:\n",
    "        return '18-25'\n",
    "    elif age > 25 and age <= 49:\n",
    "        return '25-49'\n",
    "    elif age > 49 and age <= 75:\n",
    "        return '50-75'\n",
    "    else:\n",
    "        return '75+'"
   ]
  },
  {
   "cell_type": "code",
   "execution_count": null,
   "metadata": {},
   "outputs": [],
   "source": [
    "def predict_set(model, X):\n",
    "    predicted_age = model(tf.convert_to_tensor(X))\n",
    "    return predicted_age"
   ]
  },
  {
   "cell_type": "code",
   "execution_count": null,
   "metadata": {},
   "outputs": [],
   "source": [
    "with tf.device(\"/CPU:0\"):\n",
    "    predict_set(cnn_rnn_age_model, X_test)"
   ]
  },
  {
   "cell_type": "code",
   "execution_count": null,
   "metadata": {},
   "outputs": [
    {
     "name": "stdout",
     "output_type": "stream",
     "text": [
      "728/728 [==============================] - 20s 21ms/step\n"
     ]
    }
   ],
   "source": [
    "with tf.device('/CPU:0'):\n",
    "    predicted_age = hybrid_prediction(cnn_rnn_age_model, xgb_model, X_filtered)"
   ]
  },
  {
   "cell_type": "code",
   "execution_count": null,
   "metadata": {},
   "outputs": [],
   "source": [
    "age_actual_blocked = np.array([bin_age(age) for age in Y_filtered])\n",
    "age_pred_blocked = np.array([bin_age(age) for age in predicted_age])"
   ]
  },
  {
   "cell_type": "code",
   "execution_count": null,
   "metadata": {},
   "outputs": [],
   "source": [
    "import seaborn as sns\n",
    "\n",
    "\n",
    "def age_bar(actual, predicted, title):\n",
    "    # Create a DataFrame from the data\n",
    "    data = pd.DataFrame({'Category': np.squeeze(actual), 'Values': np.squeeze(predicted)})\n",
    "\n",
    "    # Get the unique categories sorted in ascending order\n",
    "    unique_categories = sorted(data['Category'].unique())\n",
    "    \n",
    "    # Define x-tick positions - every 5th element from the unique categories\n",
    "    x_tick_positions = range(0, len(unique_categories), 2)\n",
    "    # Get the corresponding labels for the x-tick positions\n",
    "    x_tick_labels = [unique_categories[i] for i in x_tick_positions]\n",
    "\n",
    "    # Create a group boxplot using seaborn\n",
    "    plt.figure(figsize=(25, 7))\n",
    "    plt.grid(True, axis='y', linestyle='--', alpha=0.7)\n",
    "    sns.boxplot(x='Category', y='Values', data=data, width=0.6)\n",
    "    category_positions = range(len(unique_categories))\n",
    "    plt.scatter(category_positions, np.unique(np.squeeze(actual)), color='black', label='Scatter Plot', alpha=0.7)\n",
    "    plt.xlabel('Actual Age', fontsize=18)\n",
    "    plt.ylabel('Predicted Age', fontsize=18)\n",
    "    \n",
    "    # Set the x-ticks to only show every 5 ticks\n",
    "    plt.xticks(x_tick_positions, x_tick_labels, fontsize=15)\n",
    "    \n",
    "    plt.yticks(range(0, 135, 5), fontsize=15)\n",
    "    plt.title(title, fontsize=21)\n",
    "    plt.legend()\n",
    "    plt.show()\n",
    "\n",
    "# Usage of the function:"
   ]
  },
  {
   "cell_type": "code",
   "execution_count": null,
   "metadata": {},
   "outputs": [],
   "source": [
    "def age_categorizer(actual, predicted, Y, title, category_column):\n",
    "    unique_categories = Y[category_column].unique()\n",
    "\n",
    "    for category_value in unique_categories:\n",
    "        predicted_category = predicted[Y[category_column] == category_value]\n",
    "        actual_category = actual[Y[category_column] == category_value]\n",
    "\n",
    "        age_bar(actual_category, predicted_category, title=f'{title} - {category_value}')"
   ]
  },
  {
   "cell_type": "code",
   "execution_count": null,
   "metadata": {},
   "outputs": [],
   "source": [
    "import itertools\n",
    "from sklearn.metrics import confusion_matrix\n",
    "\n",
    "figsize = (10, 10)\n",
    "\n",
    "def make_confusion_matrix(y_actual, y_pred, classes=None, figsize=(10, 10), text_size=15):\n",
    "    cm = confusion_matrix(y_actual, y_pred)\n",
    "    cm_norm = cm.astype(\"float\") / cm.sum(axis=1)[:, np.newaxis]\n",
    "    n_classes = cm.shape[0]\n",
    "\n",
    "    fig, ax = plt.subplots(figsize=figsize)\n",
    "    cax = ax.matshow(cm, cmap=plt.cm.Blues)\n",
    "    fig.colorbar(cax)\n",
    "\n",
    "    labels = classes if classes else np.arange(cm.shape[0])\n",
    "    ax.set(title=\"Confusion Matrix On Testing Dataset\",\n",
    "           xlabel=\"Predicted label\",\n",
    "           ylabel=\"True label\",\n",
    "           xticks=np.arange(n_classes),\n",
    "           yticks=np.arange(n_classes),\n",
    "           xticklabels=labels,\n",
    "           yticklabels=labels)\n",
    "\n",
    "    ax.xaxis.set_label_position(\"bottom\")\n",
    "    ax.xaxis.tick_bottom()\n",
    "\n",
    "    ax.set_xlabel(\"Predicted label\", fontsize=text_size)\n",
    "    ax.set_ylabel(\"True label\", fontsize=text_size)\n",
    "    ax.set_title(\"Confusion Matrix\", fontsize=text_size)\n",
    "\n",
    "    threshold = (cm.max() + cm.min()) / 2.\n",
    "\n",
    "    for i, j in itertools.product(range(cm.shape[0]), repeat=2):\n",
    "        plt.text(j, i, f\"{cm[i, j]} ({cm_norm[i, j]*100:.1f}%)\",\n",
    "                 horizontalalignment=\"center\",\n",
    "                 color=\"white\" if cm[i, j] > threshold else \"black\",\n",
    "                 size=text_size)\n",
    "\n",
    "    plt.show()\n"
   ]
  },
  {
   "cell_type": "code",
   "execution_count": null,
   "metadata": {},
   "outputs": [],
   "source": [
    "def age_cf(actual_blocks, predicted_blocks, title):\n",
    "    # Compute the confusion matrix\n",
    "    cm = confusion_matrix(actual_blocks, predicted_blocks, labels=['18-25', '25-49', '50-75', '75+'])\n",
    "\n",
    "    # Normalize the confusion matrix\n",
    "    cm_normalized = cm.astype('float') / cm.sum(axis=1)[:, np.newaxis]\n",
    "\n",
    "    # Create a heatmap of the normalized confusion matrix\n",
    "    plt.figure(figsize=(8, 6))\n",
    "    sns.heatmap(cm_normalized, annot=True, fmt='.2f', cmap='Blues', xticklabels=['18-25', '25-49', '50-75', '75+'], yticklabels=['18-25', '25-49', '50-75', '75+'])\n",
    "    plt.xlabel('Predicted Age Block')\n",
    "    plt.ylabel('Actual Age Block')\n",
    "    plt.title(title)\n",
    "    plt.show()"
   ]
  },
  {
   "cell_type": "code",
   "execution_count": null,
   "metadata": {},
   "outputs": [],
   "source": [
    "import seaborn as sns   # Remeber to install seaborn\n",
    "\n",
    "def cat_plot(actual, predicted):\n",
    "    data = pd.DataFrame({'Category': np.squeeze(actual), 'Values': np.squeeze(predicted)})  # Merges the Actual and predicted data\n",
    "    sns.catplot(x='Category', y='Values', data=data, order=['18-25', '25-49', '50-75', '75+'])   # Takes the unique values for X and plots them with all associated Y values. Thus a boxplot range is produced"
   ]
  },
  {
   "cell_type": "code",
   "execution_count": null,
   "metadata": {},
   "outputs": [],
   "source": [
    "def category_boxplot(categories, values, title, xlabel='Age Group', ylabel='Age Predictions', category_order=None):\n",
    "    data = pd.DataFrame({xlabel: categories, ylabel: values})\n",
    "    \n",
    "    if category_order:\n",
    "        data[xlabel] = pd.Categorical(data[xlabel], categories=category_order, ordered=True)\n",
    "\n",
    "    plt.figure(figsize=(12, 6))\n",
    "    sns.boxplot(x=xlabel, y=ylabel, data=data, width=0.6, order=category_order)\n",
    "    \n",
    "    plt.xlabel(xlabel, fontsize = 15)\n",
    "    plt.ylabel(ylabel, fontsize = 15)\n",
    "    plt.title(title, fontsize =20)\n",
    "    plt.xticks(fontsize=15)\n",
    "    plt.yticks(fontsize=15)\n",
    "    # Show the plot\n",
    "    plt.show()"
   ]
  },
  {
   "cell_type": "code",
   "execution_count": null,
   "metadata": {},
   "outputs": [
    {
     "data": {
      "image/png": "[encoded data removed]",
      "text/plain": [
       "<Figure size 1800x504 with 1 Axes>"
      ]
     },
     "metadata": {},
     "output_type": "display_data"
    }
   ],
   "source": [
    "age_bar(Y_filtered, predicted_age, title= \"PTBXL CNN and LSTM Model\")"
   ]
  },
  {
   "cell_type": "code",
   "execution_count": null,
   "metadata": {},
   "outputs": [
    {
     "data": {
      "image/png": "[encoded data removed]",
      "text/plain": [
       "<Figure size 576x432 with 2 Axes>"
      ]
     },
     "metadata": {},
     "output_type": "display_data"
    }
   ],
   "source": [
    "age_cf(age_actual_blocked, age_pred_blocked, \"PTBXL Normalized Confusion Matrix for Blocked Ages\")"
   ]
  },
  {
   "cell_type": "code",
   "execution_count": null,
   "metadata": {},
   "outputs": [
    {
     "data": {
      "text/plain": [
       "(6.60484199515731, 8.743172300680426)"
      ]
     },
     "metadata": {},
     "output_type": "display_data"
    }
   ],
   "source": [
    "from sklearn.metrics import mean_absolute_error,accuracy_score, precision_score, recall_score, f1_score, roc_auc_score, mean_squared_error\n",
    "\n",
    "mae = mean_absolute_error(Y_filtered, predicted_age)\n",
    "mse = mean_squared_error(Y_filtered, predicted_age)**0.5\n",
    "\n",
    "mae, mse"
   ]
  }
 ],
 "metadata": {
  "kernelspec": {
   "display_name": "Python 3",
   "language": "python",
   "name": "python3"
  },
  "language_info": {
   "codemirror_mode": {
    "name": "ipython",
    "version": 3
   },
   "file_extension": ".py",
   "mimetype": "text/x-python",
   "name": "python",
   "nbconvert_exporter": "python",
   "pygments_lexer": "ipython3",
   "version": "3.9.16"
  }
 },
 "nbformat": 4,
 "nbformat_minor": 2
}
