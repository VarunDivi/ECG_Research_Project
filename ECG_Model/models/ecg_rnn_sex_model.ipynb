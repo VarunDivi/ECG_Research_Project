{
 "cells": [
  {
   "cell_type": "markdown",
   "metadata": {},
   "source": [
    "# Sex Prediction Ensemble Model"
   ]
  },
  {
   "cell_type": "code",
   "execution_count": 1,
   "metadata": {},
   "outputs": [],
   "source": [
    "import tensorflow as tf # Models ran in venv python 3.9.16 with GPU computing support\n",
    "import pandas as pd\n",
    "import numpy as np\n",
    "import matplotlib.pyplot as plt\n",
    "import wfdb\n",
    "import ast\n",
    "import ecg_plot\n",
    "import xgboost as xgb "
   ]
  },
  {
   "cell_type": "code",
   "execution_count": 2,
   "metadata": {},
   "outputs": [],
   "source": [
    "sr = 100"
   ]
  },
  {
   "cell_type": "code",
   "execution_count": 4,
   "metadata": {},
   "outputs": [],
   "source": [
    "with tf.device('/CPU:0'):\n",
    "    ### Loading raw data into mutable Datframes\n",
    "    ptb = pd.read_csv('../data/ptbxl_database.csv')\n",
    "    def load_raw_data(df, sampling_rate, path):\n",
    "        if(sampling_rate == 100):\n",
    "            data = [wfdb.rdsamp(path+f) for f in df.filename_lr]\n",
    "        else:\n",
    "            data = [wfdb.rdsamp(path+f) for f in df.filename_hr]\n",
    "        data = np.array([signal for signal, meta in data])\n",
    "        return data\n",
    "    \n",
    "    # load and convert annotation data\n",
    "    Y = pd.read_csv('../data/ptbxl_database.csv', index_col='ecg_id')\n",
    "    Y.scp_codes = Y.scp_codes.apply(lambda x: ast.literal_eval(x))\n",
    "\n",
    "    # Load raw signal data\n",
    "    X = load_raw_data(Y, sr, '../data/')\n",
    "\n",
    "    # Load scp_statements.csv for diagnostic aggregation\n",
    "    agg_df = pd.read_csv('../data/scp_statements.csv', index_col=0)\n",
    "    agg_df = agg_df[agg_df.diagnostic == 1]\n",
    "\n",
    "    def aggregate_diagnostic(y_dic):\n",
    "        tmp = []\n",
    "        for key in y_dic.keys():\n",
    "            if key in agg_df.index:\n",
    "                tmp.append(agg_df.loc[key].diagnostic_class)\n",
    "        return list(set(tmp))\n",
    "\n",
    "\n",
    "    # Apply diagnostic superclass\n",
    "    Y['diagnostic_superclass'] = Y.scp_codes.apply(aggregate_diagnostic)"
   ]
  },
  {
   "cell_type": "code",
   "execution_count": 5,
   "metadata": {},
   "outputs": [],
   "source": [
    "\n",
    "import numpy as np\n",
    "from scipy import signal\n",
    "\n",
    "def normalize(X, shape = False):\n",
    "    # Compute mean and standard deviation along axis 1 and 2\n",
    "    X_mean = np.mean(X)\n",
    "    X_std = np.std(X)\n",
    "\n",
    "    if(shape):\n",
    "        print(X.shape)\n",
    "    # Normalize data by subtracting mean and dividing by standard deviation\n",
    "    return ((X - X_mean) / X_std)\n",
    "\n",
    "#____________________________________________________________________________________#\n",
    "\n",
    "bld = 0.5\n",
    "def baseline_drift(X, baseline, range = 0):\n",
    "    bld_range = (baseline-range, baseline+range)\n",
    "    random_shifts = np.random.uniform(bld_range[0], bld_range[1], size = X.shape)\n",
    "    return X + random_shifts\n",
    "\n",
    "#____________________________________________________________________________________#\n",
    "\n",
    "# Define the filter parameters\n",
    "fs = 100  # Sampling frequency (Hz)\n",
    "lowcut = 0.5  # Lower cutoff frequency (Hz)\n",
    "highcut = 40.0  # Higher cutoff frequency (Hz)\n",
    "filter_order = 4  # Filter order\n",
    "\n",
    "def bandpass(X, fs, lowcut, highcut, filter_order):\n",
    "    # Apply bandpass filter to each channel\n",
    "    filtered_data = np.zeros_like(X)\n",
    "    for i in range(X.shape[2]):\n",
    "        for j in range(X.shape[0]):\n",
    "            b, a = signal.butter(filter_order, [lowcut, highcut], fs=fs, btype='band', output='ba')\n",
    "            filtered_data[j, :, i] = signal.filtfilt(b, a, X[j, :, i])\n",
    "\n",
    "    # Print the shape of the filtered data\n",
    "    return filtered_data\n",
    "\n",
    "#____________________________________________________________________________________#\n",
    "\n",
    "def da_apply(X, functions, shape = False):\n",
    "    X_final = X.copy()\n",
    "\n",
    "    # Applys DA Augments in specified order\n",
    "    for func_dict in functions:\n",
    "        func = func_dict['func']\n",
    "        if(func_dict['params'] == None):\n",
    "            X_final = func(X_final)     \n",
    "        else:\n",
    "            params = func_dict['params']\n",
    "            X_final = func(X_final, *params)  \n",
    "\n",
    "    if(shape == True):\n",
    "        print(X_final.shape)\n",
    "\n",
    "    return X_final\n",
    "\n",
    "#func_dict = [{'func': normalize, 'params': [None]}]\n",
    "\n",
    "#func_dict = [{'func': baseline_drift, 'params': [0,0.05]}]\n",
    "\n",
    "# func_dict =[{'func': normalize, 'params': [None]},\n",
    "#             {'func': bandpass, 'params': [100, 0.5, 10, 3]}, # 100, 0.5, 10, 3\n",
    "#             {'func': baseline_drift, 'params': [0,0.075]}]"
   ]
  },
  {
   "cell_type": "code",
   "execution_count": 6,
   "metadata": {},
   "outputs": [],
   "source": [
    "\n",
    "with tf.device('/CPU:0'):\n",
    "    func_dict =[{'func': normalize, 'params': [None]},  # Normalizing across the entire data set instead of by lead\n",
    "                {'func': baseline_drift, 'params': [0,0.075]}]  # I found that simulating a 0.075 drift works best\n",
    "    X_final = da_apply(X, func_dict) # If you want to experiment with data shape more, use a smaller data size. Subset X"
   ]
  },
  {
   "cell_type": "code",
   "execution_count": 7,
   "metadata": {},
   "outputs": [
    {
     "name": "stdout",
     "output_type": "stream",
     "text": [
      "((17418, 1000, 12), (17418,), (2183, 1000, 12), (2183,), (2198, 1000, 12), (2198,))\n"
     ]
    }
   ],
   "source": [
    "\n",
    "with tf.device('/CPU:0'):\n",
    "    # Split data into train and test\n",
    "    test_fold =10\n",
    "    val_fold = 9\n",
    "\n",
    "    def tvt_split(X, Y, val_fold, test_fold, shape = False):\n",
    "        X_train = X[(Y.strat_fold != test_fold) & (Y.strat_fold != val_fold)]\n",
    "        y_train = Y[(Y.strat_fold != test_fold) & (Y.strat_fold != val_fold)].sex\n",
    "\n",
    "        X_val = X[Y.strat_fold == val_fold]\n",
    "        y_val = Y[Y.strat_fold == val_fold].sex\n",
    "\n",
    "        X_test = X[(Y.strat_fold == test_fold)]\n",
    "        y_test = Y[Y.strat_fold == test_fold].sex\n",
    "\n",
    "        y_train = pd.get_dummies(y_train)\n",
    "        y_val = pd.get_dummies(y_val)\n",
    "        y_test = pd.get_dummies(y_test)\n",
    "\n",
    "        y_train = y_train.idxmax(axis = 1).to_numpy()\n",
    "        y_val = y_val.idxmax(axis = 1).to_numpy()\n",
    "        y_test = y_test.idxmax(axis = 1).to_numpy()\n",
    "\n",
    "        if(shape == True):\n",
    "            print((X_train.shape, y_train.shape, X_val.shape, y_val.shape, X_test.shape, y_test.shape))\n",
    "\n",
    "        return X_train, y_train, X_val, y_val, X_test, y_test\n",
    "\n",
    "    X_train, y_train, X_val, y_val, X_test, y_test = tvt_split(X_final, Y, val_fold, test_fold, True)"
   ]
  },
  {
   "cell_type": "markdown",
   "metadata": {},
   "source": [
    "### Checkpoint Callback\n",
    "* I realized that I could actually take a checkpoint if my model's performance spikes in the middle of training. \n",
    "* This allows me to save the best performance of the model at any point rather than the end point"
   ]
  },
  {
   "cell_type": "code",
   "execution_count": 8,
   "metadata": {},
   "outputs": [],
   "source": [
    "class SaveModelCallback(tf.keras.callbacks.Callback):\n",
    "    def __init__(self, threshold):\n",
    "        super(SaveModelCallback, self).__init__()\n",
    "        self.threshold = threshold\n",
    "\n",
    "    def on_epoch_end(self, epoch, logs=None):\n",
    "        accuracy = logs['val_accuracy']\n",
    "        if accuracy >= self.threshold:\n",
    "            self.model.save_weights(f'best_model_{epoch + 1}.h5')\n",
    "            print(f'\\nModel saved at epoch {epoch + 1} with accuracy {accuracy:.4f}')"
   ]
  },
  {
   "cell_type": "markdown",
   "metadata": {},
   "source": [
    "### CNN and RNN joint Sex Model\n",
    "* In conjunction to the Convolution layers, I used two LSTM (Lon Short-Term Memory) layers. \n",
    "* LSTM is a type of RNN architecture which excels in capturing generalizing patterns in time-series data. \n",
    "* While the Conv leyers capture intricate and spatial patterns, the LSTM layers help to prevent over fitting."
   ]
  },
  {
   "cell_type": "code",
   "execution_count": null,
   "metadata": {},
   "outputs": [
    {
     "name": "stdout",
     "output_type": "stream",
     "text": [
      "Epoch 1/15\n",
      "1089/1089 [==============================] - 39s 33ms/step - loss: 1.5902 - accuracy: 0.7536 - val_loss: 0.8168 - val_accuracy: 0.7160\n",
      "Epoch 2/15\n",
      "1089/1089 [==============================] - 38s 35ms/step - loss: 0.6358 - accuracy: 0.7850 - val_loss: 0.5483 - val_accuracy: 0.7939\n",
      "Epoch 3/15\n",
      "1089/1089 [==============================] - 38s 34ms/step - loss: 0.5331 - accuracy: 0.7978 - val_loss: 0.4980 - val_accuracy: 0.7998\n",
      "Epoch 4/15\n",
      "1089/1089 [==============================] - 38s 35ms/step - loss: 0.5061 - accuracy: 0.8039 - val_loss: 0.4964 - val_accuracy: 0.8007\n",
      "Epoch 5/15\n",
      "1089/1089 [==============================] - 38s 35ms/step - loss: 0.4863 - accuracy: 0.8142 - val_loss: 0.4941 - val_accuracy: 0.7911\n",
      "Epoch 6/15\n",
      "1089/1089 [==============================] - 38s 35ms/step - loss: 0.4725 - accuracy: 0.8205 - val_loss: 0.4957 - val_accuracy: 0.7920\n",
      "Epoch 7/15\n",
      "1088/1089 [============================>.] - ETA: 0s - loss: 0.4581 - accuracy: 0.8314\n",
      "Model saved at epoch 7 with accuracy 0.8204\n",
      "1089/1089 [==============================] - 38s 35ms/step - loss: 0.4580 - accuracy: 0.8314 - val_loss: 0.4749 - val_accuracy: 0.8204\n",
      "Epoch 8/15\n",
      "1089/1089 [==============================] - 38s 35ms/step - loss: 0.4474 - accuracy: 0.8312 - val_loss: 0.5234 - val_accuracy: 0.8021\n",
      "Epoch 9/15\n",
      "1089/1089 [==============================] - 38s 34ms/step - loss: 0.4374 - accuracy: 0.8407 - val_loss: 0.4671 - val_accuracy: 0.8177\n",
      "Epoch 10/15\n",
      "1089/1089 [==============================] - ETA: 0s - loss: 0.4180 - accuracy: 0.8493\n",
      "Model saved at epoch 10 with accuracy 0.8310\n",
      "1089/1089 [==============================] - 38s 35ms/step - loss: 0.4180 - accuracy: 0.8493 - val_loss: 0.4726 - val_accuracy: 0.8310\n",
      "Epoch 11/15\n",
      "1089/1089 [==============================] - 36s 33ms/step - loss: 0.4105 - accuracy: 0.8503 - val_loss: 0.5021 - val_accuracy: 0.8172\n",
      "Epoch 12/15\n",
      "1089/1089 [==============================] - 37s 34ms/step - loss: 0.3987 - accuracy: 0.8595 - val_loss: 0.5215 - val_accuracy: 0.7998\n",
      "Epoch 13/15\n",
      "1088/1089 [============================>.] - ETA: 0s - loss: 0.3846 - accuracy: 0.8675\n",
      "Model saved at epoch 13 with accuracy 0.8241\n",
      "1089/1089 [==============================] - 36s 33ms/step - loss: 0.3847 - accuracy: 0.8675 - val_loss: 0.4604 - val_accuracy: 0.8241\n",
      "Epoch 14/15\n",
      "1089/1089 [==============================] - 38s 35ms/step - loss: 0.3739 - accuracy: 0.8726 - val_loss: 0.5295 - val_accuracy: 0.8067\n",
      "Epoch 15/15\n",
      "1089/1089 [==============================] - 35s 32ms/step - loss: 0.3637 - accuracy: 0.8778 - val_loss: 0.5174 - val_accuracy: 0.8181\n"
     ]
    }
   ],
   "source": [
    "with tf.device('/GPU:0'):\n",
    "    tf.debugging.disable_traceback_filtering\n",
    "    # Random Seed\n",
    "    tf.random.set_seed(13)\n",
    "\n",
    "    # Batching\n",
    "    batch_size = 16\n",
    "    num_epochs = 15\n",
    "    dataset = tf.data.Dataset.from_tensor_slices((X_train, y_train))\n",
    "\n",
    "    # Shuffle and batch the dataset\n",
    "    dataset = dataset.shuffle(buffer_size=len(X_train))\n",
    "    dataset = dataset.batch(batch_size)\n",
    "\n",
    "    # Creating the model\n",
    "    ecg_sex_model_2 = tf.keras.Sequential([\n",
    "        tf.keras.layers.Conv1D(filters = 32, kernel_size = 8, strides = 4, padding = \"valid\", activation='relu'),\n",
    "        tf.keras.layers.BatchNormalization(),\n",
    "        tf.keras.layers.MaxPool1D(pool_size=2, strides = 1, padding = \"valid\"),\n",
    "\n",
    "        tf.keras.layers.Conv1D(filters = 64, kernel_size = 7, strides = 2, padding = \"valid\", activation = 'relu'),\n",
    "        tf.keras.layers.BatchNormalization(),\n",
    "        tf.keras.layers.MaxPool1D(pool_size=1, strides = 1, padding = \"valid\"),\n",
    "        tf.keras.layers.Dropout(0.2, seed = 13),\n",
    "\n",
    "        tf.keras.layers.Conv1D(filters = 96, kernel_size = 5, strides = 2, padding = \"valid\", activation = 'relu'),\n",
    "        tf.keras.layers.BatchNormalization(),\n",
    "        tf.keras.layers.MaxPool1D(pool_size=2, strides = 1, padding = \"valid\"),\n",
    "\n",
    "        tf.keras.layers.Conv1D(filters = 128, kernel_size = 4, strides = 2, padding = \"valid\", activation = 'relu'),\n",
    "        tf.keras.layers.BatchNormalization(),\n",
    "        tf.keras.layers.MaxPool1D(pool_size=1, strides = 1, padding = \"valid\"),\n",
    "\n",
    "        # LSTM Layers\n",
    "        tf.keras.layers.LSTM(units = 64, return_sequences=True, activation = 'tanh', bias_regularizer = tf.keras.regularizers.l2(0.01)),\n",
    "        tf.keras.layers.LSTM(units=64),\n",
    "\n",
    "        tf.keras.layers.Flatten(),\n",
    "\n",
    "        tf.keras.layers.Dense(64, activation= 'relu', kernel_regularizer='l1'),\n",
    "        tf.keras.layers.Dropout(0.5),\n",
    "\n",
    "        tf.keras.layers.Dense(1, activation= 'sigmoid')\n",
    "    ])\n",
    "\n",
    "\n",
    "    # Compiling the model\n",
    "    ecg_sex_model_2.compile(loss = tf.keras.losses.binary_crossentropy,\n",
    "                        optimizer = tf.keras.optimizers.Adam(learning_rate= 0.0005),\n",
    "                        metrics = ['accuracy'])\n",
    "\n",
    "\n",
    "    # Learning rate scheduler\n",
    "    early_stopper = tf.keras.callbacks.EarlyStopping(monitor = 'val_accuracy', min_delta= 0.01,patience = 4, baseline= 0.75)\n",
    "    #lr_scheduler = tf.keras.callbacks.LearningRateScheduler(lambda epoch: (0.0008) * 10**(epoch/20))\n",
    "    checkpoint_callback = SaveModelCallback(threshold=0.82)\n",
    "\n",
    "\n",
    "\n",
    "    # Fitting the model\n",
    "    history = ecg_sex_model_2.fit(dataset, epochs = num_epochs, validation_data = (X_val, y_val), callbacks = [checkpoint_callback])"
   ]
  },
  {
   "cell_type": "markdown",
   "metadata": {},
   "source": [
    "### XGBoost (Ensemble Learning)\n",
    "* Utilizes a boosting algorithm which calculates the gradient of the loss function with respect of the current predictions. \n",
    "* The CNN can extract high-level features from images, and then these features can be used as inputs to an XGBoost model.\n",
    "    *  I am feeding the XGBooster the weights from the last LSTM layer because at this point in the model it has captured very temporal paterns (Generalized Patterns)"
   ]
  },
  {
   "cell_type": "code",
   "execution_count": 9,
   "metadata": {},
   "outputs": [],
   "source": [
    "rnn_sex_model = tf.keras.models.load_model(\"../saved_models/100hz/sex_models/rnn_sex_model_0.8310.h5\")\n",
    "\n",
    "def apply_boost(model, layer_name, X, y):\n",
    "    feature_extraction_model = tf.keras.Model(inputs=model.input, outputs=model.get_layer(layer_name).output)\n",
    "\n",
    "\n",
    "    # Extracting the features from the LSTM layer\n",
    "    X_features = feature_extraction_model.predict(X) \n",
    "\n",
    "    # XGBoost picks off from these layers and applies its own algorithm\n",
    "    xgb_model = xgb.XGBClassifier(n_estimators=100, learning_rate=0.1) \n",
    "    xgb_model.fit(X_features, y) \n",
    "\n",
    "    xgb_probs = xgb_model.predict_proba(X_features)[:, 1]\n",
    "    model_probs = rnn_sex_model.predict(X)[:, 0]\n",
    "\n",
    "    # I am taking the average of the prediction probabilities to get a balanced result\n",
    "    combined_probs = xgb_probs\n",
    "    combined_preds = np.where((np.squeeze(np.where(combined_probs >= 0.50, 1, 0))) == 1, 1, 0)\n",
    "\n",
    "    # Returning both the probabilities and predictions\n",
    "    return combined_probs, combined_preds"
   ]
  },
  {
   "cell_type": "code",
   "execution_count": 14,
   "metadata": {},
   "outputs": [
    {
     "name": "stdout",
     "output_type": "stream",
     "text": [
      "69/69 [==============================] - 2s 14ms/step\n",
      "69/69 [==============================] - 2s 14ms/step\n"
     ]
    }
   ],
   "source": [
    "combined_probs, combined_preds = apply_boost(rnn_sex_model, 'lstm_64', X_test, y_test)"
   ]
  },
  {
   "cell_type": "markdown",
   "metadata": {},
   "source": [
    "### Evaluating Model"
   ]
  },
  {
   "cell_type": "code",
   "execution_count": 15,
   "metadata": {},
   "outputs": [],
   "source": [
    "def predict_set(model, X):\n",
    "    sex_temp = model(tf.convert_to_tensor(X))\n",
    "    predicted_sex_prob = np.asarray(tf.squeeze(sex_temp))\n",
    "    predicted_sex = np.where((np.squeeze(np.where(predicted_sex_prob >= 0.50, 1, 0))) == 1, 1, 0)\n",
    "    return predicted_sex_prob, predicted_sex"
   ]
  },
  {
   "cell_type": "code",
   "execution_count": 16,
   "metadata": {},
   "outputs": [],
   "source": [
    "rnn_sex_model = tf.keras.models.load_model(\"../saved_models/100hz/sex_models/rnn_sex_model_0.8310.h5\")\n",
    "cnn_sex_model = tf.keras.models.load_model(\"../saved_models/100hz/sex_models/model_1.h5\")\n",
    "\n",
    "with tf.device('/CPU:0'):\n",
    "    rnn_pred_prob, rnn_pred_sex= predict_set(rnn_sex_model, X_test)\n",
    "    cnn_pred_prob, cnn_pred_sex= predict_set(cnn_sex_model, X_test)"
   ]
  },
  {
   "cell_type": "markdown",
   "metadata": {},
   "source": [
    "### Comparing AUCs\n",
    "* Measures the ability of the model to distinguish between the two classes across different probability thresholds."
   ]
  },
  {
   "cell_type": "code",
   "execution_count": 17,
   "metadata": {},
   "outputs": [
    {
     "data": {
      "text/plain": [
       "(0.9982332155477032, 0.8863109010269228)"
      ]
     },
     "execution_count": 17,
     "metadata": {},
     "output_type": "execute_result"
    }
   ],
   "source": [
    "from sklearn.metrics import roc_auc_score\n",
    "\n",
    "\n",
    "# XGBoosted model, RNN model, Pure CNN model\n",
    "roc_auc_score(y_test, combined_probs), roc_auc_score(y_test, cnn_pred_prob)"
   ]
  },
  {
   "cell_type": "markdown",
   "metadata": {},
   "source": [
    "### Comparing Accuracies\n",
    "* Provides a simple metric that calculates (True Positives + True Negatives) / Total"
   ]
  },
  {
   "cell_type": "code",
   "execution_count": null,
   "metadata": {},
   "outputs": [
    {
     "data": {
      "text/plain": [
       "(0.9777070063694268, 0.8039126478616925)"
      ]
     },
     "execution_count": 34,
     "metadata": {},
     "output_type": "execute_result"
    }
   ],
   "source": [
    "from sklearn.metrics import accuracy_score\n",
    "\n",
    "accuracy_score(y_test, combined_preds), accuracy_score(y_test, cnn_pred_sex)"
   ]
  },
  {
   "cell_type": "markdown",
   "metadata": {},
   "source": [
    "### Visualization"
   ]
  },
  {
   "cell_type": "code",
   "execution_count": null,
   "metadata": {},
   "outputs": [],
   "source": [
    "import itertools\n",
    "from sklearn.metrics import confusion_matrix\n",
    "\n",
    "figsize = (10, 10)\n",
    "\n",
    "def make_confusion_matrix(y_actual, y_pred, classes=None, figsize=(10, 10), text_size=15):\n",
    "    cm = confusion_matrix(y_actual, y_pred)\n",
    "    cm_norm = cm.astype(\"float\") / cm.sum(axis=1)[:, np.newaxis]\n",
    "    n_classes = cm.shape[0]\n",
    "\n",
    "    fig, ax = plt.subplots(figsize=figsize)\n",
    "    cax = ax.matshow(cm, cmap=plt.cm.Blues)\n",
    "    fig.colorbar(cax)\n",
    "\n",
    "    labels = classes if classes else np.arange(cm.shape[0])\n",
    "    ax.set(title=\"Confusion Matrix On Testing Dataset\",\n",
    "           xlabel=\"Predicted label\",\n",
    "           ylabel=\"True label\",\n",
    "           xticks=np.arange(n_classes),\n",
    "           yticks=np.arange(n_classes),\n",
    "           xticklabels=labels,\n",
    "           yticklabels=labels)\n",
    "\n",
    "    ax.xaxis.set_label_position(\"bottom\")\n",
    "    ax.xaxis.tick_bottom()\n",
    "\n",
    "    ax.set_xlabel(\"Predicted label\", fontsize=text_size)\n",
    "    ax.set_ylabel(\"True label\", fontsize=text_size)\n",
    "    ax.set_title(\"Confusion Matrix\", fontsize=text_size)\n",
    "\n",
    "    threshold = (cm.max() + cm.min()) / 2.\n",
    "\n",
    "    for i, j in itertools.product(range(cm.shape[0]), repeat=2):\n",
    "        plt.text(j, i, f\"{cm[i, j]} ({cm_norm[i, j]*100:.1f}%)\",\n",
    "                 horizontalalignment=\"center\",\n",
    "                 color=\"white\" if cm[i, j] > threshold else \"black\",\n",
    "                 size=text_size)\n",
    "\n",
    "    plt.show()\n"
   ]
  },
  {
   "cell_type": "code",
   "execution_count": null,
   "metadata": {},
   "outputs": [
    {
     "data": {
      "image/png": "[encoded data removed]",
      "text/plain": [
       "<Figure size 720x720 with 2 Axes>"
      ]
     },
     "metadata": {
      "needs_background": "light"
     },
     "output_type": "display_data"
    }
   ],
   "source": [
    "class_name = ['Male', 'Female']\n",
    "make_confusion_matrix(y_test, combined_preds, class_name)"
   ]
  },
  {
   "cell_type": "code",
   "execution_count": null,
   "metadata": {},
   "outputs": [
    {
     "data": {
      "image/png": "[encoded data removed]",
      "text/plain": [
       "<Figure size 720x720 with 2 Axes>"
      ]
     },
     "metadata": {
      "needs_background": "light"
     },
     "output_type": "display_data"
    }
   ],
   "source": [
    "make_confusion_matrix(y_test, cnn_pred_sex, class_name)"
   ]
  }
 ],
 "metadata": {
  "kernelspec": {
   "display_name": "tf",
   "language": "python",
   "name": "python3"
  },
  "language_info": {
   "codemirror_mode": {
    "name": "ipython",
    "version": 3
   },
   "file_extension": ".py",
   "mimetype": "text/x-python",
   "name": "python",
   "nbconvert_exporter": "python",
   "pygments_lexer": "ipython3",
   "version": "3.9.13"
  },
  "orig_nbformat": 4
 },
 "nbformat": 4,
 "nbformat_minor": 2
}
