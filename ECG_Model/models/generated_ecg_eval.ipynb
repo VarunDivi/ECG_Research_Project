{
 "cells": [
  {
   "cell_type": "code",
   "execution_count": 1,
   "metadata": {},
   "outputs": [],
   "source": [
    "import tensorflow as tf # Models ran in venv python 3.9.16 with GPU computing support\n",
    "from tensorflow.keras.utils import plot_model\n",
    "import seaborn as sns\n",
    "import pandas as pd\n",
    "import numpy as np\n",
    "import matplotlib.pyplot as plt\n",
    "import wfdb\n",
    "import ast\n",
    "import ecg_plot\n",
    "import xgboost as xgb \n",
    "import tensorflow as tf # Models ran in venv python 3.9.16 with GPU computing support\n",
    "import os\n",
    "import scipy.io as sio"
   ]
  },
  {
   "cell_type": "code",
   "execution_count": 2,
   "metadata": {},
   "outputs": [],
   "source": [
    "sr = 100\n",
    "quick_load = True"
   ]
  },
  {
   "cell_type": "code",
   "execution_count": 3,
   "metadata": {},
   "outputs": [],
   "source": [
    "with tf.device('/CPU:0'):\n",
    "    ### Loading raw data into mutable Datframes\n",
    "    def load_data():\n",
    "        ptb = pd.read_csv('../data/ptbxl_database.csv')\n",
    "        def load_raw_data(df, sampling_rate, path):\n",
    "            if(sampling_rate == 100):\n",
    "                data = [wfdb.rdsamp(path+f) for f in df.filename_lr]\n",
    "            else:\n",
    "                data = [wfdb.rdsamp(path+f) for f in df.filename_hr]\n",
    "            data = np.array([signal for signal, meta in data])\n",
    "            return data\n",
    "        \n",
    "        # load and convert annotation data\n",
    "        Y = pd.read_csv('../data/ptbxl_database.csv', index_col='ecg_id')\n",
    "        Y.scp_codes = Y.scp_codes.apply(lambda x: ast.literal_eval(x))\n",
    "\n",
    "        # Load raw signal data\n",
    "        X = load_raw_data(Y, sr, '../data/')\n",
    "\n",
    "        # Load scp_statements.csv for diagnostic aggregation\n",
    "        agg_df = pd.read_csv('../data/scp_statements.csv', index_col=0)\n",
    "        agg_df = agg_df[agg_df.diagnostic == 1]\n",
    "\n",
    "        def aggregate_diagnostic(y_dic):\n",
    "            tmp = []\n",
    "            for key in y_dic.keys():\n",
    "                if key in agg_df.index:\n",
    "                    tmp.append(agg_df.loc[key].diagnostic_class)\n",
    "            return list(set(tmp))\n",
    "\n",
    "\n",
    "        # Apply diagnostic superclass\n",
    "        Y['diagnostic_superclass'] = Y.scp_codes.apply(aggregate_diagnostic)"
   ]
  },
  {
   "cell_type": "code",
   "execution_count": 4,
   "metadata": {},
   "outputs": [],
   "source": [
    "if(quick_load):\n",
    "    X = np.load('../data/X_raw.npy')\n",
    "    Y = pd.read_csv('../data/Y_raw.csv')\n",
    "else:\n",
    "    X,Y = load_data()\n",
    "\n",
    "gen_X_2000 = np.load('../data/fake_ecgs/2000_generated_ecg_signals.npy')\n",
    "gen_X_10000 = np.load('../data/fake_ecgs/10000_generated_ecg_signals.npy')"
   ]
  },
  {
   "cell_type": "code",
   "execution_count": 5,
   "metadata": {},
   "outputs": [],
   "source": [
    "\n",
    "import numpy as np\n",
    "from scipy import signal\n",
    "\n",
    "def normalize(X, shape = False):\n",
    "    # Compute mean and standard deviation along axis 1 and 2\n",
    "    X_mean = np.mean(X)\n",
    "    X_std = np.std(X)\n",
    "\n",
    "    if(shape):\n",
    "        print(X.shape)\n",
    "    # Normalize data by subtracting mean and dividing by standard deviation\n",
    "    return ((X - X_mean) / X_std)\n",
    "\n",
    "#____________________________________________________________________________________#\n",
    "\n",
    "bld = 0.5\n",
    "def baseline_drift(X, baseline, range = 0):\n",
    "    bld_range = (baseline-range, baseline+range)\n",
    "    random_shifts = np.random.uniform(bld_range[0], bld_range[1], size = X.shape)\n",
    "    return X + random_shifts\n",
    "\n",
    "#____________________________________________________________________________________#\n",
    "\n",
    "# Define the filter parameters\n",
    "fs = 100  # Sampling frequency (Hz)\n",
    "lowcut = 0.5  # Lower cutoff frequency (Hz)\n",
    "highcut = 40.0  # Higher cutoff frequency (Hz)\n",
    "filter_order = 4  # Filter order\n",
    "\n",
    "def bandpass(X, fs, lowcut, highcut, filter_order):\n",
    "    # Apply bandpass filter to each channel\n",
    "    filtered_data = np.zeros_like(X)\n",
    "    for i in range(X.shape[2]):\n",
    "        for j in range(X.shape[0]):\n",
    "            b, a = signal.butter(filter_order, [lowcut, highcut], fs=fs, btype='band', output='ba')\n",
    "            filtered_data[j, :, i] = signal.filtfilt(b, a, X[j, :, i])\n",
    "\n",
    "    # Print the shape of the filtered data\n",
    "    return filtered_data\n",
    "\n",
    "#____________________________________________________________________________________#\n",
    "\n",
    "def da_apply(X, functions, shape = False):\n",
    "    X_final = X.copy()\n",
    "\n",
    "    # Applys DA Augments in specified order\n",
    "    for func_dict in functions:\n",
    "        func = func_dict['func']\n",
    "        if(func_dict['params'] == None):\n",
    "            X_final = func(X_final)     \n",
    "        else:\n",
    "            params = func_dict['params']\n",
    "            X_final = func(X_final, *params)  \n",
    "\n",
    "    if(shape == True):\n",
    "        print(X_final.shape)\n",
    "\n",
    "    return X_final\n",
    "\n",
    "#func_dict = [{'func': normalize, 'params': [None]}]\n",
    "\n",
    "#func_dict = [{'func': baseline_drift, 'params': [0,0.05]}]\n",
    "\n",
    "# func_dict =[{'func': normalize, 'params': [None]},\n",
    "#             {'func': bandpass, 'params': [100, 0.5, 10, 3]}, # 100, 0.5, 10, 3\n",
    "#             {'func': baseline_drift, 'params': [0,0.075]}]"
   ]
  },
  {
   "cell_type": "code",
   "execution_count": 6,
   "metadata": {},
   "outputs": [],
   "source": [
    "\n",
    "with tf.device('/GPU:0'):\n",
    "    func_dict =[{'func': normalize, 'params': [None]},  # Normalizing across the entire data set instead of by lead\n",
    "                {'func': baseline_drift, 'params': [0,0.075]}]  # I found that simulating a 0.075 drift works best\n",
    "    \n",
    "    X_final = da_apply(X, func_dict) # If you want to experiment with data shape more, use a smaller data size. Subset X\n",
    "    gen_X_final_2000 = da_apply(gen_X_2000, func_dict)\n",
    "    gen_X_final_10000 = da_apply(gen_X_10000, func_dict) "
   ]
  },
  {
   "cell_type": "code",
   "execution_count": 7,
   "metadata": {},
   "outputs": [],
   "source": [
    "def data_subsetting(X, Y):\n",
    "\n",
    "        Y_filtered = Y.age\n",
    "        Y_filtered = Y_filtered.to_numpy()\n",
    "\n",
    "        X_filtered = X[(Y_filtered < 89) & (Y_filtered >= 18)] # Additional filtering of patients older than 89 and younger than 18\n",
    "        Y_filtered = Y_filtered[(Y_filtered < 89) & (Y_filtered >= 18)]\n",
    "        Y_filtered_full = Y[(Y.age < 89) & (Y.age >= 18)]\n",
    "\n",
    "        return X_filtered, Y_filtered, Y_filtered_full\n",
    "\n",
    "X_filtered, Y_filtered, Y_filtered_full = data_subsetting(X_final, Y)"
   ]
  },
  {
   "cell_type": "code",
   "execution_count": 8,
   "metadata": {},
   "outputs": [],
   "source": [
    "def extract_features(model, layer_name, X):\n",
    "    feature_extraction_model = tf.keras.Model(inputs=model.input, outputs=model.get_layer(layer_name).output)\n",
    "    X_features = feature_extraction_model.predict(X)\n",
    "    return X_features\n",
    "\n",
    "def hybrid_prediction(cnn_model, xgb_model, X_new):\n",
    "    # Extract features for new data using CNN-LSTM model\n",
    "    X_new_features = extract_features(cnn_model, 'flatten', X_new)\n",
    "    \n",
    "    # Use XGBoost model to predict based on these features\n",
    "    predictions = xgb_model.predict(X_new_features)\n",
    "    \n",
    "    return predictions"
   ]
  },
  {
   "cell_type": "code",
   "execution_count": 16,
   "metadata": {},
   "outputs": [],
   "source": [
    "cnn_rnn_age_model = tf.keras.models.load_model('../saved_models/100hz/age_models/cnn_rnn_age_model_8.03/')\n",
    "\n",
    "# Make sure that the xgb model is the one associated with the cnn-lstm model\n",
    "xgb_model = xgb.XGBRegressor(n_estimators=100, learning_rate=0.1)\n",
    "xgb_model.load_model('../saved_models/boost_models/100hz/age_models/xgb_model_8.03.json')  # Make sure the file name matches the one used for saving\n"
   ]
  },
  {
   "cell_type": "code",
   "execution_count": 11,
   "metadata": {},
   "outputs": [],
   "source": [
    "with tf.device(\"/CPU:0\"):\n",
    "    def predict_set(model, X):\n",
    "        predicted_age = model(tf.convert_to_tensor(X))\n",
    "        return predicted_age"
   ]
  },
  {
   "cell_type": "code",
   "execution_count": 12,
   "metadata": {},
   "outputs": [
    {
     "name": "stdout",
     "output_type": "stream",
     "text": [
      "665/665 [==============================] - 5s 6ms/step\n",
      "313/313 [==============================] - 2s 5ms/step\n",
      "63/63 [==============================] - 1s 6ms/step\n"
     ]
    }
   ],
   "source": [
    "with tf.device('/CPU:0'):\n",
    "    predicted_age = hybrid_prediction(cnn_rnn_age_model, xgb_model, X_filtered)\n",
    "    gen_predicted_age_10000 = hybrid_prediction(cnn_rnn_age_model, xgb_model, gen_X_final_10000)\n",
    "    gen_predicted_age_2000 = hybrid_prediction(cnn_rnn_age_model, xgb_model, gen_X_final_2000)\n"
   ]
  },
  {
   "cell_type": "code",
   "execution_count": 13,
   "metadata": {},
   "outputs": [
    {
     "data": {
      "text/plain": [
       "<Axes: ylabel='Count'>"
      ]
     },
     "execution_count": 13,
     "metadata": {},
     "output_type": "execute_result"
    },
    {
     "data": {
      "image/png": "[encoded data removed]",
      "text/plain": [
       "<Figure size 640x480 with 1 Axes>"
      ]
     },
     "metadata": {},
     "output_type": "display_data"
    }
   ],
   "source": [
    "sns.histplot(gen_predicted_age_2000, bins = 71)"
   ]
  },
  {
   "cell_type": "code",
   "execution_count": 14,
   "metadata": {},
   "outputs": [
    {
     "data": {
      "text/plain": [
       "<Axes: ylabel='Count'>"
      ]
     },
     "execution_count": 14,
     "metadata": {},
     "output_type": "execute_result"
    },
    {
     "data": {
      "image/png": "[encoded data removed]",
      "text/plain": [
       "<Figure size 640x480 with 1 Axes>"
      ]
     },
     "metadata": {},
     "output_type": "display_data"
    }
   ],
   "source": [
    "sns.histplot(gen_predicted_age_10000, bins = 71)"
   ]
  },
  {
   "cell_type": "code",
   "execution_count": 17,
   "metadata": {},
   "outputs": [
    {
     "data": {
      "text/plain": [
       "<Axes: ylabel='Count'>"
      ]
     },
     "execution_count": 17,
     "metadata": {},
     "output_type": "execute_result"
    },
    {
     "data": {
      "image/png": "[encoded data removed]",
      "text/plain": [
       "<Figure size 640x480 with 1 Axes>"
      ]
     },
     "metadata": {},
     "output_type": "display_data"
    }
   ],
   "source": [
    "sns.histplot(predicted_age, bins = 71)\n",
    "sns.histplot(Y_filtered, bins = 71)"
   ]
  }
 ],
 "metadata": {
  "kernelspec": {
   "display_name": "tf",
   "language": "python",
   "name": "python3"
  },
  "language_info": {
   "codemirror_mode": {
    "name": "ipython",
    "version": 3
   },
   "file_extension": ".py",
   "mimetype": "text/x-python",
   "name": "python",
   "nbconvert_exporter": "python",
   "pygments_lexer": "ipython3",
   "version": "3.9.16"
  }
 },
 "nbformat": 4,
 "nbformat_minor": 2
}
