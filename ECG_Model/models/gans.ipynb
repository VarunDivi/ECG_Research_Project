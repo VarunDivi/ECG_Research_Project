{
 "cells": [
  {
   "cell_type": "code",
   "execution_count": null,
   "metadata": {},
   "outputs": [],
   "source": [
    "import tensorflow as tf # Models ran in venv python 3.9.16 with GPU computing support\n",
    "from tensorflow import keras\n",
    "import tensorflow as tf\n",
    "import numpy as np\n",
    "\n",
    "import pandas as pd\n",
    "import numpy as np\n",
    "import matplotlib.pyplot as plt\n",
    "import wfdb\n",
    "import ast\n",
    "import ecg_plot\n",
    "import os\n",
    "import scipy.io as sio\n",
    "import xgboost as xgb\n",
    "import glob\n",
    "import imageio\n",
    "import numpy as np\n",
    "import os\n",
    "import PIL\n",
    "import time\n",
    "from IPython import display"
   ]
  },
  {
   "cell_type": "code",
   "execution_count": null,
   "metadata": {},
   "outputs": [],
   "source": [
    "\n",
    "import tensorflow as tf\n",
    "from tensorflow.keras import layers, regularizers\n",
    "#rom torch_two_sample.statistics_diff import MMDStatistic\n",
    "import torch\n",
    "\n",
    "import matplotlib.pyplot as plt\n",
    "import numpy as np\n",
    "import random\n",
    "\n",
    "from IPython import display\n",
    "from tqdm import tqdm\n",
    "from shutil import copyfile"
   ]
  },
  {
   "cell_type": "code",
   "execution_count": 184,
   "metadata": {},
   "outputs": [],
   "source": [
    "sr = 100"
   ]
  },
  {
   "cell_type": "code",
   "execution_count": 186,
   "metadata": {},
   "outputs": [],
   "source": [
    "with tf.device('/CPU:0'):\n",
    "    ### Loading raw data into mutable Datframes\n",
    "    ptb = pd.read_csv('../data/ptbxl_database.csv')\n",
    "    #path = r\"c:\\Users\\Barre\\Downloads\\ptb-xl-a-large-publicly-available-electrocardiography-dataset-1.0.3\\ptb-xl-a-large-publicly-available-electrocardiography-dataset-1.0.3\"\n",
    "\n",
    "    def load_raw_data(df, sampling_rate, path):\n",
    "        if(sampling_rate == 100):\n",
    "            data = [wfdb.rdsamp(path+f) for f in df.filename_lr]\n",
    "        else:\n",
    "            data = [wfdb.rdsamp(path+f) for f in df.filename_hr]\n",
    "        data = np.array([signal for signal, meta in data])\n",
    "        return data\n",
    "    \n",
    "    # load and convert annotation data\n",
    "    Y = pd.read_csv('../data/ptbxl_database.csv', index_col='ecg_id')\n",
    "    Y.scp_codes = Y.scp_codes.apply(lambda x: ast.literal_eval(x))\n",
    "\n",
    "    # Load raw signal data\n",
    "    X = load_raw_data(Y, sr, '../data/')\n",
    "\n",
    "    # Load scp_statements.csv for diagnostic aggregation\n",
    "    agg_df = pd.read_csv('../data/scp_statements.csv', index_col=0)\n",
    "    agg_df = agg_df[agg_df.diagnostic == 1]\n",
    "\n",
    "    def aggregate_diagnostic(y_dic):\n",
    "        tmp = []\n",
    "        for key in y_dic.keys():\n",
    "            if key in agg_df.index:\n",
    "                tmp.append(agg_df.loc[key].diagnostic_class)\n",
    "        return list(set(tmp))\n",
    "\n",
    "\n",
    "    # Apply diagnostic superclass\n",
    "    Y['diagnostic_superclass'] = Y.scp_codes.apply(aggregate_diagnostic)"
   ]
  },
  {
   "cell_type": "code",
   "execution_count": 187,
   "metadata": {},
   "outputs": [
    {
     "name": "stdout",
     "output_type": "stream",
     "text": [
      "((17418, 1000, 12), (17418,))\n"
     ]
    }
   ],
   "source": [
    "\n",
    "with tf.device('/GPU:0'):\n",
    "    # Split data into train and test\n",
    "    test_fold =10\n",
    "    val_fold = 9\n",
    "\n",
    "    def tvt_split(X, Y, val_fold, test_fold, shape = False):\n",
    "        X_train = X[(Y.strat_fold != test_fold) & (Y.strat_fold != val_fold)]\n",
    "        y_train = Y[(Y.strat_fold != test_fold) & (Y.strat_fold != val_fold)].age\n",
    "\n",
    "        y_train = pd.get_dummies(y_train)\n",
    "\n",
    "        y_train = y_train.idxmax(axis = 1).to_numpy()\n",
    "\n",
    "        rX_train = X_train[(y_train < 89) & (y_train >= 75)] # Additional filtering of patients older than 89 and younger than 18\n",
    "        ry_train = y_train[(y_train < 89) & (y_train >= 75)]\n",
    "\n",
    "        if(shape == True):\n",
    "            print((X_train.shape, y_train.shape))\n",
    "\n",
    "        return rX_train, ry_train\n",
    "    \n",
    "    X_train, y_train = tvt_split(X, Y, val_fold, test_fold, True)"
   ]
  },
  {
   "cell_type": "code",
   "execution_count": 189,
   "metadata": {},
   "outputs": [
    {
     "data": {
      "text/plain": [
       "3253"
      ]
     },
     "execution_count": 189,
     "metadata": {},
     "output_type": "execute_result"
    }
   ],
   "source": [
    "len(y_train)"
   ]
  },
  {
   "cell_type": "code",
   "execution_count": null,
   "metadata": {},
   "outputs": [],
   "source": [
    "def make_teset(X_train, y_train):\n",
    "    X_test = X_train[0:100]\n",
    "    X_train = X_train[-0:100]\n",
    "\n",
    "    y_test = y_train[0:100]\n",
    "    y_train = y_train[-0:100]\n",
    "    return y_test,X_test\n",
    "make_teset(X_train=X_train, y_train=y_train)"
   ]
  },
  {
   "cell_type": "code",
   "execution_count": 237,
   "metadata": {},
   "outputs": [],
   "source": [
    "def test_show(generator, discriminator):\n",
    "    noise = tf.random.normal([64, 1000, 12])\n",
    "    generated_ecg = generator(noise, training=False)\n",
    "    print(generated_ecg.shape)\n",
    "    plt.plot(generated_ecg[0, 0, :])\n",
    "    plt.show()\n",
    "    \n",
    "    decision = discriminator(generated_ecg, training=False)\n",
    "    print(decision)\n",
    "norm_value = 2173\n",
    "\n",
    "def generate_and_save_ecg(model, epoch, test_input, save):\n",
    "    predictions = model(test_input, training=False)\n",
    "\n",
    "    fig = plt.figure(figsize=(4,3))\n",
    "    plt.plot(predictions[0, 0, :] * norm_value)\n",
    "    # plt.plot(predictions[0, 0, :])\n",
    "    \n",
    "    if save:\n",
    "        plt.savefig('./ecg_at_epoch_{:04d}.png'.format(epoch))\n",
    "\n",
    "    plt.show()\n"
   ]
  },
  {
   "cell_type": "code",
   "execution_count": 238,
   "metadata": {},
   "outputs": [
    {
     "name": "stdout",
     "output_type": "stream",
     "text": [
      "Model: \"sequential_49\"\n",
      "_________________________________________________________________\n",
      " Layer (type)                Output Shape              Param #   \n",
      "=================================================================\n",
      " bidirectional_17 (Bidirecti  (None, 1000, 128)        39424     \n",
      " onal)                                                           \n",
      "                                                                 \n",
      " conv1d_141 (Conv1D)         (None, 1000, 128)         262272    \n",
      "                                                                 \n",
      " leaky_re_lu_156 (LeakyReLU)  (None, 1000, 128)        0         \n",
      "                                                                 \n",
      " conv1d_142 (Conv1D)         (None, 1000, 64)          131136    \n",
      "                                                                 \n",
      " leaky_re_lu_157 (LeakyReLU)  (None, 1000, 64)         0         \n",
      "                                                                 \n",
      " up_sampling1d_34 (UpSamplin  (None, 2000, 64)         0         \n",
      " g1D)                                                            \n",
      "                                                                 \n",
      " conv1d_143 (Conv1D)         (None, 2000, 32)          32800     \n",
      "                                                                 \n",
      " leaky_re_lu_158 (LeakyReLU)  (None, 2000, 32)         0         \n",
      "                                                                 \n",
      " conv1d_144 (Conv1D)         (None, 2000, 16)          8208      \n",
      "                                                                 \n",
      " leaky_re_lu_159 (LeakyReLU)  (None, 2000, 16)         0         \n",
      "                                                                 \n",
      " up_sampling1d_35 (UpSamplin  (None, 4000, 16)         0         \n",
      " g1D)                                                            \n",
      "                                                                 \n",
      " conv1d_145 (Conv1D)         (None, 4000, 1)           257       \n",
      "                                                                 \n",
      " permute_32 (Permute)        (None, 1, 4000)           0         \n",
      "                                                                 \n",
      "=================================================================\n",
      "Total params: 474,097\n",
      "Trainable params: 474,097\n",
      "Non-trainable params: 0\n",
      "_________________________________________________________________\n",
      "Model: \"sequential_50\"\n",
      "_________________________________________________________________\n",
      " Layer (type)                Output Shape              Param #   \n",
      "=================================================================\n",
      " permute_33 (Permute)        (None, 400, 1)            0         \n",
      "                                                                 \n",
      " conv1d_146 (Conv1D)         (None, 400, 32)           544       \n",
      "                                                                 \n",
      " leaky_re_lu_160 (LeakyReLU)  (None, 400, 32)          0         \n",
      "                                                                 \n",
      " conv1d_147 (Conv1D)         (None, 400, 64)           32832     \n",
      "                                                                 \n",
      " leaky_re_lu_161 (LeakyReLU)  (None, 400, 64)          0         \n",
      "                                                                 \n",
      " max_pooling1d_28 (MaxPoolin  (None, 200, 64)          0         \n",
      " g1D)                                                            \n",
      "                                                                 \n",
      " conv1d_148 (Conv1D)         (None, 200, 128)          131200    \n",
      "                                                                 \n",
      " leaky_re_lu_162 (LeakyReLU)  (None, 200, 128)         0         \n",
      "                                                                 \n",
      " conv1d_149 (Conv1D)         (None, 200, 256)          524544    \n",
      "                                                                 \n",
      " leaky_re_lu_163 (LeakyReLU)  (None, 200, 256)         0         \n",
      "                                                                 \n",
      " max_pooling1d_29 (MaxPoolin  (None, 100, 256)         0         \n",
      " g1D)                                                            \n",
      "                                                                 \n",
      " flatten_16 (Flatten)        (None, 25600)             0         \n",
      "                                                                 \n",
      " dense_36 (Dense)            (None, 1)                 25601     \n",
      "                                                                 \n",
      "=================================================================\n",
      "Total params: 714,721\n",
      "Trainable params: 714,721\n",
      "Non-trainable params: 0\n",
      "_________________________________________________________________\n"
     ]
    }
   ],
   "source": [
    "def make_generator_model():\n",
    "    model = tf.keras.Sequential()\n",
    "    model.add(layers.Input(shape=(1000, 12)))\n",
    "\n",
    "    model.add(layers.Bidirectional(layers.LSTM(64, return_sequences=True)))\n",
    "\n",
    "    model.add(layers.Conv1D(filters=128, kernel_size=16, strides=1, padding='same'))\n",
    "    model.add(layers.LeakyReLU())\n",
    "  \n",
    "    model.add(layers.Conv1D(filters=64, kernel_size=16, strides=1, padding='same'))\n",
    "    model.add(layers.LeakyReLU())\n",
    "    \n",
    "    model.add(layers.UpSampling1D(2))\n",
    "    \n",
    "    model.add(layers.Conv1D(filters=32, kernel_size=16, strides=1, padding='same'))\n",
    "    model.add(layers.LeakyReLU())\n",
    "    \n",
    "    model.add(layers.Conv1D(filters=16, kernel_size=16, strides=1, padding='same'))\n",
    "    model.add(layers.LeakyReLU())\n",
    "\n",
    "    model.add(layers.UpSampling1D(2))\n",
    "    \n",
    "    model.add(layers.Conv1D(filters=1, kernel_size=16, strides=1, padding='same', activation='tanh'))\n",
    "    \n",
    "    model.add(layers.Permute((2, 1)))\n",
    "    \n",
    "    return model\n",
    "\n",
    "def make_discriminator_model():\n",
    "    model = tf.keras.Sequential()\n",
    "   \n",
    "    model.add(layers.Input(shape=(1, 400)))\n",
    "    model.add(layers.Permute((2, 1)))\n",
    "    \n",
    "    model.add(layers.Conv1D(filters=32, kernel_size=16, strides=1, padding='same'))\n",
    "    model.add(layers.LeakyReLU())\n",
    "\n",
    "    # model.add(layers.Dropout(0.4))\n",
    "\n",
    "    model.add(layers.Conv1D(filters=64, kernel_size=16, strides=1, padding='same'))\n",
    "    model.add(layers.LeakyReLU())\n",
    "\n",
    "    model.add(layers.MaxPool1D(pool_size=2))\n",
    "\n",
    "    model.add(layers.Conv1D(filters=128, kernel_size=16, strides=1, padding='same'))\n",
    "    model.add(layers.LeakyReLU())\n",
    "\n",
    "    # model.add(layers.Dropout(0.4))\n",
    "\n",
    "    model.add(layers.Conv1D(filters=256, kernel_size=16, strides=1, padding='same'))\n",
    "    model.add(layers.LeakyReLU())\n",
    "\n",
    "    model.add(layers.MaxPool1D(pool_size=2))\n",
    "\n",
    "    model.add(layers.Flatten())\n",
    "    model.add(layers.Dense(1))\n",
    "\n",
    "    return model\n",
    "\n",
    "generator     = make_generator_model()\n",
    "discriminator = make_discriminator_model()\n",
    "\n",
    "generator.summary()\n",
    "discriminator.summary()\n",
    "\n",
    "# test_show(generator, discriminator)\n"
   ]
  },
  {
   "cell_type": "code",
   "execution_count": 239,
   "metadata": {},
   "outputs": [],
   "source": [
    "disc_losses = tf.keras.metrics.Mean('disc_loss', dtype=tf.float32)\n",
    "disc_losses_list = []\n",
    "\n",
    "### discriminator accuracy ###\n",
    "fake_disc_accuracy = tf.keras.metrics.BinaryAccuracy('fake_disc_accuracy')\n",
    "real_disc_accuracy = tf.keras.metrics.BinaryAccuracy('real_disc_accuracy')\n",
    "fake_disc_accuracy_list, real_disc_accuracy_list = [], []\n",
    "\n",
    "### generator loss ###\n",
    "# gen_log_dir = 'logs/gradient_tape/gen_loss'\n",
    "# gen_summary_writer = tf.summary.create_file_writer(gen_log_dir)\n",
    "gen_losses = tf.keras.metrics.Mean('gen_loss', dtype=tf.float32)\n",
    "gen_losses_list = []\n",
    "\n",
    "\n",
    "#################################################################################\n",
    "#          Prepare loss functions and optimizers\n",
    "#################################################################################\n",
    "\n",
    "# This method returns a helper function to compute cross entropy loss\n",
    "cross_entropy = tf.keras.losses.BinaryCrossentropy(from_logits=True)\n",
    "\n",
    "def discriminator_loss(real_output, fake_output):\n",
    "    real_loss = cross_entropy(tf.ones_like(real_output), real_output)\n",
    "    fake_loss = cross_entropy(tf.zeros_like(fake_output), fake_output)\n",
    "    total_loss = real_loss + fake_loss\n",
    "    return total_loss\n",
    "\n",
    "def generator_loss(fake_output):\n",
    "    return cross_entropy(tf.ones_like(fake_output), fake_output)\n",
    "\n",
    "generator_optimizer = tf.keras.optimizers.Adam(0.0002)\n",
    "discriminator_optimizer = tf.keras.optimizers.Adam(0.0002)"
   ]
  },
  {
   "cell_type": "code",
   "execution_count": 240,
   "metadata": {},
   "outputs": [],
   "source": [
    "disc_steps = 1\n",
    "\n",
    "# Notice the use of `tf.function`\n",
    "# This annotation causes the function to be \"compiled\".\n",
    "@tf.function\n",
    "def train_step(real_ecg, dim):\n",
    "    noise = tf.random.normal(((1,64), 1000, 12))\n",
    "    for i in range(disc_steps):\n",
    "        with tf.GradientTape() as disc_tape:\n",
    "            generated_ecg = generator(noise, training=True)\n",
    "\n",
    "            real_output = discriminator(real_ecg, training=True)\n",
    "            fake_output = discriminator(generated_ecg, training=True)\n",
    "\n",
    "            disc_loss = discriminator_loss(real_output, fake_output)\n",
    "        \n",
    "        gradients_of_discriminator = disc_tape.gradient(disc_loss, discriminator.trainable_variables)\n",
    "        discriminator_optimizer.apply_gradients(zip(gradients_of_discriminator, discriminator.trainable_variables))\n",
    "        ### for tensorboard ###\n",
    "        disc_losses.update_state(disc_loss)\n",
    "        fake_disc_accuracy.update_state(tf.zeros_like(fake_output), fake_output)\n",
    "        real_disc_accuracy.update_state(tf.ones_like(real_output), real_output)\n",
    "        #######################\n",
    "    \n",
    "    with tf.GradientTape() as gen_tape:\n",
    "        generated_ecg = generator(noise, training=True)\n",
    "        fake_output = discriminator(generated_ecg, training=True)\n",
    "\n",
    "        gen_loss = generator_loss(fake_output)\n",
    "    \n",
    "    gradients_of_generator = gen_tape.gradient(gen_loss, generator.trainable_variables)\n",
    "    generator_optimizer.apply_gradients(zip(gradients_of_generator, generator.trainable_variables))\n",
    "\n",
    "    ### for tensorboard ###\n",
    "    gen_losses.update_state(gen_loss)\n",
    "    #######################\n",
    "    \n",
    "\n",
    "def train(dataset, epochs, dim):\n",
    "    for epoch in tqdm(range(epochs)):\n",
    "    \n",
    "        for batch in dataset:\n",
    "            train_step(64, dim)\n",
    "            \n",
    "        disc_losses_list.append(disc_losses.result().numpy())\n",
    "        gen_losses_list.append(gen_losses.result().numpy())\n",
    "        \n",
    "        fake_disc_accuracy_list.append(fake_disc_accuracy.result().numpy())\n",
    "        real_disc_accuracy_list.append(real_disc_accuracy.result().numpy())\n",
    "        \n",
    "        ### for tensorboard ###\n",
    "#         with disc_summary_writer.as_default():\n",
    "#             tf.summary.scalar('loss', disc_losses.result(), step=epoch)\n",
    "#             tf.summary.scalar('fake_accuracy', fake_disc_accuracy.result(), step=epoch)\n",
    "#             tf.summary.scalar('real_accuracy', real_disc_accuracy.result(), step=epoch)\n",
    "            \n",
    "#         with gen_summary_writer.as_default():\n",
    "#             tf.summary.scalar('loss', gen_losses.result(), step=epoch)\n",
    "            \n",
    "        disc_losses.reset_states()        \n",
    "        gen_losses.reset_states()\n",
    "        \n",
    "        fake_disc_accuracy.reset_states()\n",
    "        real_disc_accuracy.reset_states()\n",
    "        #######################\n",
    "\n",
    "        # Save the model every 5 epochs\n",
    "#         if (epoch + 1) % 5 == 0:\n",
    "#             generate_and_save_ecg(generator, epochs, seed, False)\n",
    "#             checkpoint.save(file_prefix = checkpoint_prefix)\n",
    "\n",
    "    # Generate after the final epoch\n",
    "    display.clear_output(wait=True)\n",
    "    generate_and_save_ecg(generator, epochs, seed, False)"
   ]
  },
  {
   "cell_type": "code",
   "execution_count": 241,
   "metadata": {},
   "outputs": [
    {
     "data": {
      "text/plain": [
       "(3253, 1000, 12)"
      ]
     },
     "execution_count": 241,
     "metadata": {},
     "output_type": "execute_result"
    }
   ],
   "source": [
    "noise_dim = [BATCH_SIZE, 1000, 12]\n",
    "\n",
    "X_train.shape"
   ]
  },
  {
   "cell_type": "code",
   "execution_count": 242,
   "metadata": {},
   "outputs": [],
   "source": [
    "def prepare_data(dim):\n",
    "    # Load and preprocess your data here\n",
    "    data = X_train  # Assuming X_train has shape (3253, 1000, 12)\n",
    "\n",
    "    print('Data shape:', data.shape)\n",
    "\n",
    "    # Normalize the data\n",
    "    data = data / norm_value\n",
    "    data = np.array(data, dtype='float32')\n",
    "\n",
    "    plt.figure(figsize=(4, 3))\n",
    "    plt.plot(data[random.randint(0, data.shape[0])][0] * norm_value)\n",
    "    plt.show()\n",
    "\n",
    "    train_size = int(data.shape[0] * 0.9)\n",
    "    test_size = data.shape[0] - train_size\n",
    "    print(train_size, test_size)\n",
    "\n",
    "    # Shuffle and batch the data (no need to reshape the datasets)\n",
    "    train_dataset = tf.data.Dataset.from_tensor_slices(data[:train_size]).shuffle(train_size).batch(BATCH_SIZE)\n",
    "    test_dataset = tf.data.Dataset.from_tensor_slices(data[train_size:]).shuffle(test_size).batch(1)\n",
    "\n",
    "    seed = tf.random.normal(dim)\n",
    "\n",
    "    return seed, train_dataset, test_dataset\n"
   ]
  },
  {
   "cell_type": "code",
   "execution_count": 243,
   "metadata": {},
   "outputs": [
    {
     "name": "stdout",
     "output_type": "stream",
     "text": [
      "Data shape: (3253, 1000, 12)\n"
     ]
    },
    {
     "data": {
      "image/png": "[encoded data removed]",
      "text/plain": [
       "<Figure size 288x216 with 1 Axes>"
      ]
     },
     "metadata": {
      "needs_background": "light"
     },
     "output_type": "display_data"
    },
    {
     "name": "stdout",
     "output_type": "stream",
     "text": [
      "2927 326\n"
     ]
    }
   ],
   "source": [
    "BATCH_SIZE = 64\n",
    "noise_dim = [BATCH_SIZE, 100, 12]\n",
    "\n",
    "seed, train_dataset, test_dataset = prepare_data(noise_dim)"
   ]
  },
  {
   "cell_type": "code",
   "execution_count": 244,
   "metadata": {},
   "outputs": [
    {
     "name": "stderr",
     "output_type": "stream",
     "text": [
      "  0%|          | 0/5 [00:00<?, ?it/s]c:\\Users\\Barre\\AppData\\Local\\Programs\\Python\\Python39\\lib\\site-packages\\tensorflow\\python\\framework\\tensor_util.py:455: VisibleDeprecationWarning: Creating an ndarray from ragged nested sequences (which is a list-or-tuple of lists-or-tuples-or ndarrays with different lengths or shapes) is deprecated. If you meant to do this, you must specify 'dtype=object' when creating the ndarray.\n",
      "  nparray = np.array(values, dtype=np_dt)\n",
      "  0%|          | 0/5 [00:00<?, ?it/s]\n"
     ]
    },
    {
     "ename": "ValueError",
     "evalue": "in user code:\n\n    File \"C:\\Users\\Barre\\AppData\\Local\\Temp/ipykernel_13064/1608427266.py\", line 7, in train_step  *\n        noise = tf.random.normal(((1,64), 1000, 12))\n\n    ValueError: Expected values ((1, 64), 1000, 12) to be a dense tensor with shape [3, 2], but got shape [3].\n",
     "output_type": "error",
     "traceback": [
      "\u001b[1;31m---------------------------------------------------------------------------\u001b[0m",
      "\u001b[1;31mValueError\u001b[0m                                Traceback (most recent call last)",
      "\u001b[1;32m~\\AppData\\Local\\Temp/ipykernel_13064/1538598345.py\u001b[0m in \u001b[0;36m<module>\u001b[1;34m\u001b[0m\n\u001b[1;32m----> 1\u001b[1;33m \u001b[0mtrain\u001b[0m\u001b[1;33m(\u001b[0m\u001b[0mtrain_dataset\u001b[0m\u001b[1;33m,\u001b[0m \u001b[1;36m5\u001b[0m\u001b[1;33m,\u001b[0m \u001b[0mnoise_dim\u001b[0m\u001b[1;33m)\u001b[0m\u001b[1;33m\u001b[0m\u001b[1;33m\u001b[0m\u001b[0m\n\u001b[0m",
      "\u001b[1;32m~\\AppData\\Local\\Temp/ipykernel_13064/1608427266.py\u001b[0m in \u001b[0;36mtrain\u001b[1;34m(dataset, epochs, dim)\u001b[0m\n\u001b[0;32m     41\u001b[0m \u001b[1;33m\u001b[0m\u001b[0m\n\u001b[0;32m     42\u001b[0m         \u001b[1;32mfor\u001b[0m \u001b[0mbatch\u001b[0m \u001b[1;32min\u001b[0m \u001b[0mdataset\u001b[0m\u001b[1;33m:\u001b[0m\u001b[1;33m\u001b[0m\u001b[1;33m\u001b[0m\u001b[0m\n\u001b[1;32m---> 43\u001b[1;33m             \u001b[0mtrain_step\u001b[0m\u001b[1;33m(\u001b[0m\u001b[1;36m64\u001b[0m\u001b[1;33m,\u001b[0m \u001b[0mdim\u001b[0m\u001b[1;33m)\u001b[0m\u001b[1;33m\u001b[0m\u001b[1;33m\u001b[0m\u001b[0m\n\u001b[0m\u001b[0;32m     44\u001b[0m \u001b[1;33m\u001b[0m\u001b[0m\n\u001b[0;32m     45\u001b[0m         \u001b[0mdisc_losses_list\u001b[0m\u001b[1;33m.\u001b[0m\u001b[0mappend\u001b[0m\u001b[1;33m(\u001b[0m\u001b[0mdisc_losses\u001b[0m\u001b[1;33m.\u001b[0m\u001b[0mresult\u001b[0m\u001b[1;33m(\u001b[0m\u001b[1;33m)\u001b[0m\u001b[1;33m.\u001b[0m\u001b[0mnumpy\u001b[0m\u001b[1;33m(\u001b[0m\u001b[1;33m)\u001b[0m\u001b[1;33m)\u001b[0m\u001b[1;33m\u001b[0m\u001b[1;33m\u001b[0m\u001b[0m\n",
      "\u001b[1;32mc:\\Users\\Barre\\AppData\\Local\\Programs\\Python\\Python39\\lib\\site-packages\\tensorflow\\python\\util\\traceback_utils.py\u001b[0m in \u001b[0;36merror_handler\u001b[1;34m(*args, **kwargs)\u001b[0m\n\u001b[0;32m    151\u001b[0m     \u001b[1;32mexcept\u001b[0m \u001b[0mException\u001b[0m \u001b[1;32mas\u001b[0m \u001b[0me\u001b[0m\u001b[1;33m:\u001b[0m\u001b[1;33m\u001b[0m\u001b[1;33m\u001b[0m\u001b[0m\n\u001b[0;32m    152\u001b[0m       \u001b[0mfiltered_tb\u001b[0m \u001b[1;33m=\u001b[0m \u001b[0m_process_traceback_frames\u001b[0m\u001b[1;33m(\u001b[0m\u001b[0me\u001b[0m\u001b[1;33m.\u001b[0m\u001b[0m__traceback__\u001b[0m\u001b[1;33m)\u001b[0m\u001b[1;33m\u001b[0m\u001b[1;33m\u001b[0m\u001b[0m\n\u001b[1;32m--> 153\u001b[1;33m       \u001b[1;32mraise\u001b[0m \u001b[0me\u001b[0m\u001b[1;33m.\u001b[0m\u001b[0mwith_traceback\u001b[0m\u001b[1;33m(\u001b[0m\u001b[0mfiltered_tb\u001b[0m\u001b[1;33m)\u001b[0m \u001b[1;32mfrom\u001b[0m \u001b[1;32mNone\u001b[0m\u001b[1;33m\u001b[0m\u001b[1;33m\u001b[0m\u001b[0m\n\u001b[0m\u001b[0;32m    154\u001b[0m     \u001b[1;32mfinally\u001b[0m\u001b[1;33m:\u001b[0m\u001b[1;33m\u001b[0m\u001b[1;33m\u001b[0m\u001b[0m\n\u001b[0;32m    155\u001b[0m       \u001b[1;32mdel\u001b[0m \u001b[0mfiltered_tb\u001b[0m\u001b[1;33m\u001b[0m\u001b[1;33m\u001b[0m\u001b[0m\n",
      "\u001b[1;32m~\\AppData\\Local\\Temp\\__autograph_generated_filei6j4h0o_.py\u001b[0m in \u001b[0;36mtf__train_step\u001b[1;34m(real_ecg, dim)\u001b[0m\n\u001b[0;32m      6\u001b[0m         \u001b[1;32mdef\u001b[0m \u001b[0mtf__train_step\u001b[0m\u001b[1;33m(\u001b[0m\u001b[0mreal_ecg\u001b[0m\u001b[1;33m,\u001b[0m \u001b[0mdim\u001b[0m\u001b[1;33m)\u001b[0m\u001b[1;33m:\u001b[0m\u001b[1;33m\u001b[0m\u001b[1;33m\u001b[0m\u001b[0m\n\u001b[0;32m      7\u001b[0m             \u001b[1;32mwith\u001b[0m \u001b[0mag__\u001b[0m\u001b[1;33m.\u001b[0m\u001b[0mFunctionScope\u001b[0m\u001b[1;33m(\u001b[0m\u001b[1;34m'train_step'\u001b[0m\u001b[1;33m,\u001b[0m \u001b[1;34m'fscope'\u001b[0m\u001b[1;33m,\u001b[0m \u001b[0mag__\u001b[0m\u001b[1;33m.\u001b[0m\u001b[0mConversionOptions\u001b[0m\u001b[1;33m(\u001b[0m\u001b[0mrecursive\u001b[0m\u001b[1;33m=\u001b[0m\u001b[1;32mTrue\u001b[0m\u001b[1;33m,\u001b[0m \u001b[0muser_requested\u001b[0m\u001b[1;33m=\u001b[0m\u001b[1;32mTrue\u001b[0m\u001b[1;33m,\u001b[0m \u001b[0moptional_features\u001b[0m\u001b[1;33m=\u001b[0m\u001b[1;33m(\u001b[0m\u001b[1;33m)\u001b[0m\u001b[1;33m,\u001b[0m \u001b[0minternal_convert_user_code\u001b[0m\u001b[1;33m=\u001b[0m\u001b[1;32mTrue\u001b[0m\u001b[1;33m)\u001b[0m\u001b[1;33m)\u001b[0m \u001b[1;32mas\u001b[0m \u001b[0mfscope\u001b[0m\u001b[1;33m:\u001b[0m\u001b[1;33m\u001b[0m\u001b[1;33m\u001b[0m\u001b[0m\n\u001b[1;32m----> 8\u001b[1;33m                 \u001b[0mnoise\u001b[0m \u001b[1;33m=\u001b[0m \u001b[0mag__\u001b[0m\u001b[1;33m.\u001b[0m\u001b[0mconverted_call\u001b[0m\u001b[1;33m(\u001b[0m\u001b[0mag__\u001b[0m\u001b[1;33m.\u001b[0m\u001b[0mld\u001b[0m\u001b[1;33m(\u001b[0m\u001b[0mtf\u001b[0m\u001b[1;33m)\u001b[0m\u001b[1;33m.\u001b[0m\u001b[0mrandom\u001b[0m\u001b[1;33m.\u001b[0m\u001b[0mnormal\u001b[0m\u001b[1;33m,\u001b[0m \u001b[1;33m(\u001b[0m\u001b[1;33m(\u001b[0m\u001b[1;33m(\u001b[0m\u001b[1;36m1\u001b[0m\u001b[1;33m,\u001b[0m \u001b[1;36m64\u001b[0m\u001b[1;33m)\u001b[0m\u001b[1;33m,\u001b[0m \u001b[1;36m1000\u001b[0m\u001b[1;33m,\u001b[0m \u001b[1;36m12\u001b[0m\u001b[1;33m)\u001b[0m\u001b[1;33m,\u001b[0m\u001b[1;33m)\u001b[0m\u001b[1;33m,\u001b[0m \u001b[1;32mNone\u001b[0m\u001b[1;33m,\u001b[0m \u001b[0mfscope\u001b[0m\u001b[1;33m)\u001b[0m\u001b[1;33m\u001b[0m\u001b[1;33m\u001b[0m\u001b[0m\n\u001b[0m\u001b[0;32m      9\u001b[0m \u001b[1;33m\u001b[0m\u001b[0m\n\u001b[0;32m     10\u001b[0m                 \u001b[1;32mdef\u001b[0m \u001b[0mget_state\u001b[0m\u001b[1;33m(\u001b[0m\u001b[1;33m)\u001b[0m\u001b[1;33m:\u001b[0m\u001b[1;33m\u001b[0m\u001b[1;33m\u001b[0m\u001b[0m\n",
      "\u001b[1;31mValueError\u001b[0m: in user code:\n\n    File \"C:\\Users\\Barre\\AppData\\Local\\Temp/ipykernel_13064/1608427266.py\", line 7, in train_step  *\n        noise = tf.random.normal(((1,64), 1000, 12))\n\n    ValueError: Expected values ((1, 64), 1000, 12) to be a dense tensor with shape [3, 2], but got shape [3].\n"
     ]
    }
   ],
   "source": [
    "train(train_dataset, 5, noise_dim)\n"
   ]
  },
  {
   "cell_type": "code",
   "execution_count": null,
   "metadata": {},
   "outputs": [],
   "source": [
    "\n",
    "fig, axes = plt.subplots(2, figsize=(12, 8))\n",
    "fig.suptitle('Training Metrics')\n",
    "\n",
    "axes[0].set_ylabel(\"Losses\", fontsize=14)\n",
    "axes[0].set_xlabel(\"Epoch\", fontsize=14)\n",
    "axes[0].plot(disc_losses_list, color='red')\n",
    "axes[0].plot(gen_losses_list, color='blue')\n",
    "\n",
    "axes[1].set_ylabel(\"Accuracy\", fontsize=14)\n",
    "axes[1].set_xlabel(\"Epoch\", fontsize=14)\n",
    "axes[1].plot(fake_disc_accuracy_list, color='red')\n",
    "axes[1].plot(real_disc_accuracy_list, color='blue')\n",
    "plt.show()"
   ]
  },
  {
   "cell_type": "code",
   "execution_count": null,
   "metadata": {},
   "outputs": [],
   "source": [
    "seed = tf.random.normal(noise_dim)\n",
    "ecg = generator(seed, training=False)\n",
    "answer = discriminator(ecg)\n",
    "fig = plt.figure(figsize=(4,3))\n",
    "plt.plot(ecg[0, 0, :] * norm_value)\n",
    "plt.show()\n",
    "print(answer[0])"
   ]
  },
  {
   "cell_type": "code",
   "execution_count": null,
   "metadata": {},
   "outputs": [],
   "source": [
    "generator.save(r'C:\\Users\\Barre\\Downloads\\gen_ecg.h5')\n",
    "discriminator.save(r\"C:\\Users\\Barre\\Downloads\\dis_ecg.h5\")"
   ]
  },
  {
   "cell_type": "code",
   "execution_count": null,
   "metadata": {},
   "outputs": [],
   "source": [
    "model = tf.keras.models.load_model('gen_ecg.h5')\n"
   ]
  },
  {
   "cell_type": "code",
   "execution_count": null,
   "metadata": {},
   "outputs": [],
   "source": [
    "model.summary()\n"
   ]
  },
  {
   "cell_type": "code",
   "execution_count": null,
   "metadata": {},
   "outputs": [],
   "source": [
    "seed = tf.random.normal([1, 100, 12])\n",
    "ecg = model(seed, training=False)\n",
    "fig = plt.figure(figsize=(4,3))\n",
    "plt.plot(ecg[0, 0, :] * norm_value)\n",
    "plt.show()"
   ]
  },
  {
   "cell_type": "code",
   "execution_count": null,
   "metadata": {},
   "outputs": [],
   "source": [
    "def rmse(targets, predictions):\n",
    "    return np.sqrt(np.mean((targets-predictions)**2))\n",
    "\n",
    "\n",
    "def prd(targets, predictions):\n",
    "    s1 = np.sum((targets-predictions)**2)\n",
    "    s2 = np.sum(targets**2)\n",
    "    return np.sqrt(s1 / s2 * 100)\n",
    "\n",
    "\n",
    "def mmd(targets, predictions):\n",
    "    mmd_stat = MMDStatistic(400, 400)\n",
    "    sample_target = torch.from_numpy(targets.numpy().reshape((400,1)))\n",
    "    sample_pred = torch.from_numpy(predictions.numpy().reshape((400,1)))\n",
    "    \n",
    "    stat = mmd_stat(sample_target, sample_pred, [1.])\n",
    "    return(stat.item())\n",
    "\n",
    "\n",
    "def testing(test_dataset, model, noise_dim):\n",
    "    noise = tf.random.normal(noise_dim)\n",
    "    generated_ecgs = model(noise, training=False)\n",
    "\n",
    "    mmd_sum, prd_sum, rmse_sum = [], [], []\n",
    "    for true_ecg, gen_ecg in zip(test_dataset, generated_ecgs):\n",
    "        prd_sum.append(prd(true_ecg[0][0], gen_ecg[0]))\n",
    "        rmse_sum.append(rmse(true_ecg[0][0], gen_ecg[0]))\n",
    "        mmd_sum.append(mmd(true_ecg[0][0], gen_ecg[0]))\n",
    "\n",
    "    print('mmd :', f'mean={np.mean(mmd_sum):.6f}', f'min={np.min(mmd_sum):.6f}', f'max={np.max(mmd_sum):.6f}')\n",
    "    print('prd :', f'mean={np.mean(prd_sum):.4f}', f'min={np.min(prd_sum):.4f}', f'max={np.max(prd_sum):.4f}')\n",
    "    print('rmse:', f'mean={np.mean(rmse_sum):.4f}', f'min={np.min(rmse_sum):.4f}', f'max={np.max(rmse_sum):.4f}')\n"
   ]
  }
 ],
 "metadata": {
  "kernelspec": {
   "display_name": "tf",
   "language": "python",
   "name": "python3"
  },
  "language_info": {
   "codemirror_mode": {
    "name": "ipython",
    "version": 3
   },
   "file_extension": ".py",
   "mimetype": "text/x-python",
   "name": "python",
   "nbconvert_exporter": "python",
   "pygments_lexer": "ipython3",
   "version": "3.9.6"
  },
  "orig_nbformat": 4
 },
 "nbformat": 4,
 "nbformat_minor": 2
}
